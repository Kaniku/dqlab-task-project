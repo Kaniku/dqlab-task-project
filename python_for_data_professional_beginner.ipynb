{
  "nbformat": 4,
  "nbformat_minor": 0,
  "metadata": {
    "colab": {
      "name": "python_for_data_professional_beginner.ipynb",
      "provenance": [],
      "collapsed_sections": []
    },
    "kernelspec": {
      "name": "python3",
      "display_name": "Python 3"
    }
  },
  "cells": [
    {
      "cell_type": "markdown",
      "metadata": {
        "id": "NGjOj1o6URmq",
        "colab_type": "text"
      },
      "source": [
        "#Python for Data Professional Beginner\n",
        "\n",
        "Pada project kali ini, saya akan menyelesaikan suatu studi kasus dan akan menggunakan Python untuk mendapatkan solusinya. Project ini didapat dari Platform DQLab."
      ]
    },
    {
      "cell_type": "markdown",
      "metadata": {
        "id": "_LT3ORt_WySC",
        "colab_type": "text"
      },
      "source": [
        "1. Praktek Python Conditioning & Looping pada studi kasus tagihan."
      ]
    },
    {
      "cell_type": "code",
      "metadata": {
        "id": "rJ6wsjabWxga",
        "colab_type": "code",
        "colab": {
          "base_uri": "https://localhost:8080/",
          "height": 54
        },
        "outputId": "22e682f6-6aee-4e05-c09f-d0700f96cb65"
      },
      "source": [
        "#Membuat list tagihan\n",
        "tagihan = [50000, 75000, -150000, 125000, 300000, -50000, 200000]\n",
        "#Buat perulangan\n",
        "i = 0 \n",
        "jumlah_tagihan = len(tagihan)\n",
        "total_tagihan = 0\n",
        "while i < jumlah_tagihan:\n",
        "  #jika terdapat tagihan ke-i yang bernilai minus (di bawah nol), maka pengulangan dihentikan\n",
        "  if tagihan[i] < 0:\n",
        "    total_tagihan = -1\n",
        "    print(\"terdapat angka minus dalam tagihan, perhitungan dihentikan!\")\n",
        "    break\n",
        "  total_tagihan += tagihan[i] #ini digunakan untuk looping tagihan positif\n",
        "  i += 1\n",
        "print(total_tagihan)"
      ],
      "execution_count": 1,
      "outputs": [
        {
          "output_type": "stream",
          "text": [
            "terdapat angka minus dalam tagihan, perhitungan dihentikan!\n",
            "-1\n"
          ],
          "name": "stdout"
        }
      ]
    },
    {
      "cell_type": "markdown",
      "metadata": {
        "id": "qbDyt9vac4-V",
        "colab_type": "text"
      },
      "source": [
        "2. Studi kasus ekspedisi. Terdapat seseorang yang harus mengeluarkan uang sebesar 1,5 juta per mobil dalam sehari. Hitung total pengeluaran per bulan jika terdapat aturan pelat ganjil genap!"
      ]
    },
    {
      "cell_type": "code",
      "metadata": {
        "id": "xIbsdfLZPjsk",
        "colab_type": "code",
        "colab": {
          "base_uri": "https://localhost:8080/",
          "height": 35
        },
        "outputId": "d0b0ecb9-db48-4ceb-b2d7-4cc45d003f11"
      },
      "source": [
        "#Data\n",
        "uang_jalan = 1500000\n",
        "jumlah_hari = 31\n",
        "list_pelat_nomor = [8993, 2198, 2501, 2735, 3772, 4837, 9152]\n",
        "#Pengecekan kendaraan dengan nomor pelat ganjil atau genap\n",
        "kendaraan_genap = 0\n",
        "kendaraan_ganjil = 0\n",
        "for pelat_nomor in list_pelat_nomor:\n",
        "  if pelat_nomor % 2 == 0:\n",
        "    kendaraan_genap += 1\n",
        "  else:\n",
        "    kendaraan_ganjil += 1\n",
        "#Total pengeluaran untuk kendaraan dengan nomor pelat ganjil dan genap dalam satu bulan\n",
        "i = 1\n",
        "total_pengeluaran = 0\n",
        "while i <= jumlah_hari:\n",
        "  if i % 2 == 0:\n",
        "    total_pengeluaran += (kendaraan_genap * uang_jalan)\n",
        "  else:\n",
        "    total_pengeluaran += (kendaraan_ganjil * uang_jalan)\n",
        "  i += 1\n",
        "#Mencetak total pengeluaran\n",
        "print(total_pengeluaran)"
      ],
      "execution_count": 2,
      "outputs": [
        {
          "output_type": "stream",
          "text": [
            "163500000\n"
          ],
          "name": "stdout"
        }
      ]
    },
    {
      "cell_type": "markdown",
      "metadata": {
        "id": "x64DAUmlhZtD",
        "colab_type": "text"
      },
      "source": [
        "3. Studi kasus mengenai prediksi harga rumah"
      ]
    },
    {
      "cell_type": "code",
      "metadata": {
        "id": "KbJHslHOmF35",
        "colab_type": "code",
        "colab": {}
      },
      "source": [
        "#Step 1\n",
        "#Baca file \"harga_rumah.txt\"\n",
        "#file_harga_rumah = open(\"harga_rumah.txt\", \"r\")\n",
        "#data_harga_rumah = file_harga_rumah.readlines()\n",
        "#file_harga_rumah.close()\n",
        "#Buat list of dict dengan nama harga rumah\n",
        "#key_harga_rumah = data_harga_rumah[0].replace(\"\\n\",\"\").split(\",\")\n",
        "#harga_rumah = []\n",
        "#for baris in data_harga_rumah[1:]:\n",
        "  #baris_harga_rumah = baris.replace(\"\\n\",\"\").split(\",\")\n",
        "  #dict_harga_rumah = dict()\n",
        "  #for i in range(len(baris_harga_rumah)):\n",
        "    #dict_harga_rumah[key_harga_rumah[i]] = baris_harga_rumah[i]\n",
        "  #harga_rumah.append(dict_harga_rumah)\n",
        "#print(harga_rumah)"
      ],
      "execution_count": 3,
      "outputs": []
    },
    {
      "cell_type": "code",
      "metadata": {
        "id": "bTvpqwVChhIR",
        "colab_type": "code",
        "colab": {}
      },
      "source": [
        "harga_rumah = [\n",
        "               {'tanah': 70, 'bangunan': 50, 'jarak_ke_pusat': 15, 'harga': 500},\n",
        "               {'tanah': 70, 'bangunan': 60, 'jarak_ke_pusat': 30, 'harga': 400},\n",
        "               {'tanah': 70, 'bangunan': 60, 'jarak_ke_pusat': 55, 'harga': 300},\n",
        "               {'tanah': 100, 'bangunan': 50, 'jarak_ke_pusat': 30, 'harga': 700},\n",
        "               {'tanah': 100, 'bangunan': 70, 'jarak_ke_pusat': 25, 'harga': 1000},\n",
        "               {'tanah': 100, 'bangunan': 70, 'jarak_ke_pusat': 50, 'harga': 650},\n",
        "               {'tanah': 120, 'bangunan': 100, 'jarak_ke_pusat': 20, 'harga': 2000},\n",
        "               {'tanah': 120, 'bangunan': 80, 'jarak_ke_pusat': 50, 'harga': 1200},\n",
        "               {'tanah': 150, 'bangunan': 100, 'jarak_ke_pusat': 50, 'harga': 1800},\n",
        "               {'tanah': 150, 'bangunan': 90, 'jarak_ke_pusat': 15, 'harga': 3000}\n",
        "               ]"
      ],
      "execution_count": 4,
      "outputs": []
    },
    {
      "cell_type": "code",
      "metadata": {
        "id": "pgwOm3dSreU_",
        "colab_type": "code",
        "colab": {}
      },
      "source": [
        "#Step 2\n",
        "#Membuat fungsi get_all_specified_attribute yang menerima parameter list_of_dictionary (tipe data list yang berisikan sekumpulan tipe data dictionary) dan\n",
        "#specified_key (tipe data string). Fungsi akan mengembalikan sebuah list yang berisikan seluruh atribut dengan kunci (key) specified key\n",
        "\n",
        "def get_all_specified_attributes(list_of_dictionary, specified_key):\n",
        "  list_attributes = []\n",
        "  for data in list_of_dictionary:\n",
        "    attribute = data[specified_key]\n",
        "    list_attributes.append(attribute)\n",
        "  return list_attributes"
      ],
      "execution_count": 5,
      "outputs": []
    },
    {
      "cell_type": "code",
      "metadata": {
        "id": "K5FE76eJtZ68",
        "colab_type": "code",
        "colab": {}
      },
      "source": [
        "#Step 3\n",
        "#Membuat fungsi fungsi min_value yang menerima parameter list_attributes (berupa tipe data list) dan mengembalikan nilai terkecil dalam list_attributes\n",
        "def min_value(list_attributes):\n",
        "  min_attribute = 9999\n",
        "  for attr in list_attributes:\n",
        "    if int(attr) < min_attribute:\n",
        "      min_attribute = int(attr)\n",
        "  return min_attribute\n",
        "\n",
        "def max_value(list_attributes):\n",
        "  max_attribute = -9999\n",
        "  for attr in list_attributes:\n",
        "    if int(attr) > max_attribute:\n",
        "      max_attribute = int(attr)\n",
        "  return max_attribute"
      ],
      "execution_count": 6,
      "outputs": []
    },
    {
      "cell_type": "code",
      "metadata": {
        "id": "1YHsltzLw9on",
        "colab_type": "code",
        "colab": {}
      },
      "source": [
        "#Step 4\n",
        "#Membuat fungsi transform_attribute yang menerima parameter attr (sebuah bilangan),\n",
        "#max_attr (sebuah bilangan) dan min_attr (sebuah bilangan) yang mengembalikan nilai transformasi dari sebuah attribute\n",
        "\n",
        "def transform_attribute(attr, max_attr, min_attr):\n",
        "  nilai_transformasi = (attr - min_attr) / (max_attr - min_attr)\n",
        "  return nilai_transformasi"
      ],
      "execution_count": 7,
      "outputs": []
    },
    {
      "cell_type": "code",
      "metadata": {
        "id": "s0R7R8np2Icr",
        "colab_type": "code",
        "colab": {}
      },
      "source": [
        "#Step 5\n",
        "#Membuat fungsi data_transformation yang menerima parameter list_of_dictionary (sebuah list yang berisikan tipe data dictionary) dan\n",
        "#list_attribute_names (sebuah list yang berisikan tipe data string) mengembalikan hasil transformasi data dari list_of_dictionary\n",
        "#berdasarkan list_attribute_names dan attr_info telah dispesifikasikan\n",
        "\n",
        "def data_transformation(list_of_dictionary, list_attribute_names):\n",
        "  attr_info = {}\n",
        "  for attr_name in list_attribute_names:\n",
        "    specified_attributes = get_all_specified_attributes(list_of_dictionary, attr_name)\n",
        "    max_attr = max_value(specified_attributes)\n",
        "    min_attr = min_value(specified_attributes)\n",
        "    attr_info[attr_name] = {'max': max_attr, 'min': min_attr}\n",
        "    data_idx = 0\n",
        "    while (data_idx < len(list_of_dictionary)):\n",
        "      list_of_dictionary[data_idx][attr_name] = transform_attribute(int(list_of_dictionary[data_idx][attr_name]), max_attr, min_attr)\n",
        "      data_idx += 1\n",
        "  return list_of_dictionary, attr_info\n"
      ],
      "execution_count": 8,
      "outputs": []
    },
    {
      "cell_type": "code",
      "metadata": {
        "id": "mE_hJjCc5_si",
        "colab_type": "code",
        "colab": {}
      },
      "source": [
        "#Step 6\n",
        "#Membuat fungsi transform_data berdasarkan data baru dan attr_info ini\n",
        "#yang menerima parameter data dan attr_info dan mengembalikan nilai atribut dari data baru yang telah ditransformasikan\n",
        "\n",
        "def transform_data(data, attr_info):\n",
        "  for key_name in data.keys():\n",
        "    data[key_name] = (data[key_name] - attr_info[key_name]['min']) / (attr_info[key_name]['max'] - attr_info[key_name]['min'])\n",
        "  return data"
      ],
      "execution_count": 9,
      "outputs": []
    },
    {
      "cell_type": "code",
      "metadata": {
        "id": "0DG6du3P-X3x",
        "colab_type": "code",
        "colab": {}
      },
      "source": [
        "#Step 7:\n",
        "#Membuat fungsi yang digunakan untuk sistem prediksi harga berdasarkan nilai kemiripan atribut, yaitu argument input data dan list_of_data\n",
        "\n",
        "def abs_value(value):\n",
        "  if value < 0:\n",
        "    return -value\n",
        "  else:\n",
        "    return value \n",
        "def price_based_on_similarity(data, list_of_data):\n",
        "  prediksi_harga = 0\n",
        "  perbedaan_terkecil = 999\n",
        "  for data_point in list_of_data:\n",
        "    perbedaan = abs_value(data['tanah'] - data_point['tanah'])\n",
        "    perbedaan += abs_value(data['bangunan'] - data_point['bangunan'])\n",
        "    perbedaan += abs_value(data['jarak_ke_pusat'] - data_point['jarak_ke_pusat'])\n",
        "    if perbedaan < perbedaan_terkecil:\n",
        "      prediksi_harga = data_point['harga']\n",
        "      perbedaan_terkecil = perbedaan\n",
        "  return prediksi_harga\n"
      ],
      "execution_count": 10,
      "outputs": []
    },
    {
      "cell_type": "code",
      "metadata": {
        "id": "akAIPbaz_3PK",
        "colab_type": "code",
        "colab": {}
      },
      "source": [
        "#Step 8\n",
        "#Menghitung harga rumah yang telah ditransformasikan ke dalam variabel harga_rumah berikut dengan atributnya attr_info\n",
        "\n",
        "harga_rumah, attr_info = data_transformation(harga_rumah, ['tanah', 'bangunan', 'jarak_ke_pusat'])"
      ],
      "execution_count": 11,
      "outputs": []
    },
    {
      "cell_type": "code",
      "metadata": {
        "id": "XZD3aOrSCNIY",
        "colab_type": "code",
        "colab": {}
      },
      "source": [
        "#Menggunakan variabel data untuk memprediksi harga rumah\n",
        "data = {'tanah':110, 'bangunan':80, 'jarak_ke_pusat': 35}"
      ],
      "execution_count": 12,
      "outputs": []
    },
    {
      "cell_type": "code",
      "metadata": {
        "id": "wQ9pi3bFCayh",
        "colab_type": "code",
        "colab": {}
      },
      "source": [
        "#Mentransformasikan data tersebut dengan menggunakan attr_info yang telah diperoleh yang kembali disimpan ke variabel data\n",
        "\n",
        "data = transform_data(data, attr_info)"
      ],
      "execution_count": 13,
      "outputs": []
    },
    {
      "cell_type": "code",
      "metadata": {
        "id": "VZ3FkyMqCrk_",
        "colab_type": "code",
        "colab": {
          "base_uri": "https://localhost:8080/",
          "height": 35
        },
        "outputId": "2b433c2d-2dcf-4b2b-fe9f-6be759b2e393"
      },
      "source": [
        "#Menghitung prediksi harga dari variabel data tersebut\n",
        "harga = price_based_on_similarity(data, harga_rumah)\n",
        "print(\"Prediksi harga rumah: \", harga)"
      ],
      "execution_count": 14,
      "outputs": [
        {
          "output_type": "stream",
          "text": [
            "Prediksi harga rumah:  1200\n"
          ],
          "name": "stdout"
        }
      ]
    },
    {
      "cell_type": "markdown",
      "metadata": {
        "id": "h8IA1J3-Qx8r",
        "colab_type": "text"
      },
      "source": [
        "4. Studi kasus menghitung pendapatan karyawan"
      ]
    },
    {
      "cell_type": "code",
      "metadata": {
        "id": "ado4Ga0yTSgx",
        "colab_type": "code",
        "colab": {
          "base_uri": "https://localhost:8080/",
          "height": 54
        },
        "outputId": "32bc83d8-163a-4fe5-ae17-fe0e83895a1f"
      },
      "source": [
        "class Karyawan:\n",
        "  nama_perusahaan = 'ABC'\n",
        "  insentif_lembur = 250000\n",
        "  def __init__(self, nama, usia, pendapatan):\n",
        "    self.nama = nama\n",
        "    self.usia = usia\n",
        "    self.pendapatan = pendapatan\n",
        "    self.pendapatan_tambahan = 0\n",
        "  def lembur(self):\n",
        "    self.pendapatan_tambahan += self.insentif_lembur\n",
        "  def tambahan_proyek(self, insentif_proyek):\n",
        "    self.pendapatan_tambahan += insentif_proyek\n",
        "  def total_pendapatan(self):\n",
        "    return self.pendapatan + self.pendapatan_tambahan\n",
        "\n",
        "#Membuat object dari karyawan bernama Budi dan Susi\n",
        "budi = Karyawan('Budi', 25, 8500000)\n",
        "susi = Karyawan('Susi', 28, 12500000)\n",
        "\n",
        "#Budi melaksanakan lembur\n",
        "budi.lembur()\n",
        "\n",
        "#Susi memiliki proyek tambahan\n",
        "susi.tambahan_proyek(25000000)\n",
        "\n",
        "#Cetak pendapatan total Budi dan Susi\n",
        "print('Pendapatan Total Budi: ' + str(budi.total_pendapatan()))\n",
        "print('Pendapatan Total Susi: ' + str(susi.total_pendapatan()))"
      ],
      "execution_count": 15,
      "outputs": [
        {
          "output_type": "stream",
          "text": [
            "Pendapatan Total Budi: 8750000\n",
            "Pendapatan Total Susi: 37500000\n"
          ],
          "name": "stdout"
        }
      ]
    },
    {
      "cell_type": "markdown",
      "metadata": {
        "id": "ijjWWAvt6d6U",
        "colab_type": "text"
      },
      "source": [
        "5. Studi kasus data karyawan aktif/nonaktif dan perusahaan"
      ]
    },
    {
      "cell_type": "code",
      "metadata": {
        "id": "nM4ZDSfr6npK",
        "colab_type": "code",
        "colab": {}
      },
      "source": [
        "#Mendefiniskan class Karyawan\n",
        "\n",
        "class Karyawan:\n",
        "  def __init__(self, nama, usia, pendapatan, insentif_lembur):\n",
        "    self.nama = nama\n",
        "    self.usia = usia\n",
        "    self.pendapatan = pendapatan\n",
        "    self.pendapatan_tambahan = 0\n",
        "    self.insentif_lembur = insentif_lembur\n",
        "  def lembur(self):\n",
        "    self.pendapatan_tambahan += self.insentif_lembur\n",
        "  def tambahan_proyek(self, jumlah_tambahan):\n",
        "    self.pendapatan_tambahan += jumlah_tambahan\n",
        "  def total_pendapatan(self):\n",
        "    return self.pendapatan + self.pendapatan_tambahan\n",
        "\n",
        "#Mendefinisikan class Perusahaan\n",
        "class Perusahaan:\n",
        "  def __init__(self, nama, alamat, nomor_telepon):\n",
        "    self.nama = nama\n",
        "    self.alamat = alamat\n",
        "    self.nomor_telepon = nomor_telepon\n",
        "    self.list_karyawan = []\n",
        "  def aktifkan_karyawan(self, karyawan):\n",
        "    self.list_karyawan.append(karyawan)\n",
        "  def nonaktifkan_karyawan(self, nama_karyawan):\n",
        "    karyawan_nonaktif = None\n",
        "    for karyawan in self.list_karyawan:\n",
        "      if karyawan.nama in self.list_karyawan:\n",
        "        karyawan_nonaktif = karyawan\n",
        "        break\n",
        "    if karyawan_nonaktif is not None:\n",
        "      self.list_karyawan.remove(karyawan_nonaktif)"
      ],
      "execution_count": 30,
      "outputs": []
    },
    {
      "cell_type": "code",
      "metadata": {
        "id": "pSYwz6N1BNew",
        "colab_type": "code",
        "colab": {}
      },
      "source": [
        "#Mendefinisikan perusahaan\n",
        "perusahaan = Perusahaan('XYZ', 'Jl. Kemerdekaan nomor 7', '(031)227XXX')\n",
        "\n",
        "#Mendefinisikan nama-nama karyawan\n",
        "karyawan_1 = Karyawan('Sinta', 25, 8500000, 100000)\n",
        "karyawan_2 = Karyawan('Dani', 28, 12000000, 150000)\n",
        "karyawan_3 = Karyawan('Cia', 30, 15000000, 200000)\n",
        "\n",
        "#Mengaktifkan karyawan di perusahaan XYZ\n",
        "perusahaan.aktifkan_karyawan(karyawan_1)\n",
        "perusahaan.aktifkan_karyawan(karyawan_2)\n",
        "perusahaan.aktifkan_karyawan(karyawan_3)"
      ],
      "execution_count": 32,
      "outputs": []
    },
    {
      "cell_type": "markdown",
      "metadata": {
        "id": "QJzI4uXADOgW",
        "colab_type": "text"
      },
      "source": [
        "6. Studi kasus gaji karyawan dengan status yang berbeda"
      ]
    },
    {
      "cell_type": "code",
      "metadata": {
        "id": "f7Frulc4FIWM",
        "colab_type": "code",
        "colab": {
          "base_uri": "https://localhost:8080/",
          "height": 35
        },
        "outputId": "610c1441-3bf0-4654-c243-7c640ffa48a2"
      },
      "source": [
        "#Mendefinisikan class karyawan\n",
        "class Karyawan:\n",
        "  def __init__(self, nama, usia, pendapatan, insentif_lembur):\n",
        "    self.nama = nama\n",
        "    self.usia = usia\n",
        "    self.pendapatan = pendapatan\n",
        "    self.pendapatan_tambahan = 0\n",
        "    self.insentif_lembur = insentif_lembur\n",
        "  def lembur(self):\n",
        "    self.pendapatan_tambahan += self.insentif_lembur\n",
        "  def tambahan_proyek(self, jumlah_tambahan):\n",
        "    self.pendapatan_tambahan += jumlah_tambahan\n",
        "  def total_pendapatan(self):\n",
        "    return self.pendapatan + self.pendapatan_tambahan\n",
        "\n",
        "#Mendefinisikan class TenagaLepas sebagai child class dari class Karyawan\n",
        "\n",
        "class TenagaLepas(Karyawan):\n",
        "  def __init__(self, nama, usia, pendapatan):\n",
        "    super().__init__(nama, usia, pendapatan, 0)\n",
        "  def tambahan_proyek(self, nilai_proyek):\n",
        "    super.pendapatan_tambahan += nilai_proyek * 0.01\n",
        "\n",
        "#Mendefinisikan class AnalisData sebagai child class dari class Karyawan\n",
        "class AnalisData(Karyawan):\n",
        "  def __init__(self, nama, usia = 21, pendapatan = 6500000, insentif_lembur = 100000):\n",
        "    super().__init__(nama, usia, pendapatan, insentif_lembur)\n",
        "\n",
        "#Mendefinisikan class IlmuwanData sebagai child class dari class Karyawan\n",
        "class IlmuwanData(Karyawan):\n",
        "  def __init__(self, nama, usia = 25, pendapatan = 12000000, insentif_lembur = 150000):\n",
        "    super().__init__(nama, usia, pendapatan, insentif_lembur)\n",
        "  def tambahan_proyek(self, nilai_proyek):\n",
        "    self.pendapatan_tambahan += 0.1 * nilai_proyek\n",
        "\n",
        "#Mendefinisikan class PembersihData sebagai child class dari class TenagaLepas\n",
        "class PembersihData(TenagaLepas):\n",
        "  def __init__(self, nama, usia, pendapatan = 4000000):\n",
        "    super().__init__(nama, usia, pendapatan)\n",
        "\n",
        "#Mendefinisikan class DokumenterTeknis sebagai child class dari TenagaLepas\n",
        "class DokumenterTeknis(TenagaLepas):\n",
        "  def __init__(self, nama, usia, pendapatan = 2500000):\n",
        "    super().__init__(nama, usia, pendapatan)\n",
        "    def tambahan_proyek(self, jumlah_tambahan):\n",
        "      return\n",
        "\n",
        "#Mendefinisikan class Perusahaan\n",
        "class Perusahaan:\n",
        "  def __init__(self, nama, alamat, nomor_telepon):\n",
        "    self.nama = nama\n",
        "    self.alamat = alamat\n",
        "    self.nomor_telepon = nomor_telepon\n",
        "    self.list_karyawan = []\n",
        "  def aktifkan_karyawan(self, karyawan):\n",
        "    self.list_karyawan.append(karyawan)\n",
        "  def nonaktifkan_karyawan(self, nama_karyawan):\n",
        "    karyawan_nonaktif = None\n",
        "    for karyawan in self.list_karyawan:\n",
        "      if karyawan.nama == nama_karyawan:\n",
        "        karyawan_nonaktif = karyawan\n",
        "        break\n",
        "    if karyawan_nonaktif is not None:\n",
        "      self.list_karyawan.remove(karyawan_nonaktif)\n",
        "  def total_pengeluaran(self):\n",
        "    pengeluaran = 0\n",
        "    for karyawan in self.list_karyawan:\n",
        "      pengeluaran += karyawan.total_pendapatan()\n",
        "    return pengeluaran\n",
        "  def cari_karyawan(self, nama_karyawan):\n",
        "    for karyawan in self.list_karyawan:\n",
        "      if karyawan.nama == nama_karyawan:\n",
        "        return karyawan\n",
        "      return None\n",
        "\n",
        "#Create object karyawan sesuai dengan tugasnya masing-masing\n",
        "\n",
        "keli = PembersihData('Keli', 25)\n",
        "leo = DokumenterTeknis('Leo', 18)\n",
        "maya = IlmuwanData('Maya')\n",
        "nio = IlmuwanData('Nio', 32, 20000000)\n",
        "oci = AnalisData('Oci')\n",
        "pidi = AnalisData('Pidi', 28, 12000000)\n",
        "\n",
        "#Create object perusahaan\n",
        "perusahaan = Perusahaan('XYZ', 'Jl. Kemerdekaan nomor 7', '(031)227XXX')\n",
        "\n",
        "#Aktifkan setiap karyawan yang telah didefinisikan\n",
        "perusahaan.aktifkan_karyawan(keli)\n",
        "perusahaan.aktifkan_karyawan(leo)\n",
        "perusahaan.aktifkan_karyawan(maya)\n",
        "perusahaan.aktifkan_karyawan(nio)\n",
        "perusahaan.aktifkan_karyawan(oci)\n",
        "perusahaan.aktifkan_karyawan(pidi)\n",
        "\n",
        "#Mencetak keseluruhan total pengeluaran perusahaan\n",
        "print(perusahaan.total_pengeluaran())"
      ],
      "execution_count": 18,
      "outputs": [
        {
          "output_type": "stream",
          "text": [
            "57000000\n"
          ],
          "name": "stdout"
        }
      ]
    }
  ]
}