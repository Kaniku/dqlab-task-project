{
  "nbformat": 4,
  "nbformat_minor": 0,
  "metadata": {
    "colab": {
      "name": "data_wrangling_python",
      "provenance": []
    },
    "kernelspec": {
      "name": "python3",
      "display_name": "Python 3"
    }
  },
  "cells": [
    {
      "cell_type": "markdown",
      "metadata": {
        "id": "_DW4G-_jpWBF"
      },
      "source": [
        "#Melihat informasi statistik menggunakan Numpy\n",
        "\n",
        "Kita akan melihat informasi statistik pada suatu data untuk melihat persebaran data."
      ]
    },
    {
      "cell_type": "code",
      "metadata": {
        "id": "Kf1nNJCCpM1_",
        "outputId": "0da71338-4190-4e0e-dd41-dd3b6f354efc",
        "colab": {
          "base_uri": "https://localhost:8080/"
        }
      },
      "source": [
        "#menampilkan semua distribusi data\n",
        "\n",
        "import pandas as pd\n",
        "\n",
        "df = pd.read_csv(\"shopping_data.csv\")\n",
        "\n",
        "print(df.describe(include='all'))"
      ],
      "execution_count": 1,
      "outputs": [
        {
          "output_type": "stream",
          "text": [
            "        CustomerID   Genre  ...  Annual Income (k$)  Spending Score (1-100)\n",
            "count   200.000000     200  ...          200.000000              200.000000\n",
            "unique         NaN       2  ...                 NaN                     NaN\n",
            "top            NaN  Female  ...                 NaN                     NaN\n",
            "freq           NaN     112  ...                 NaN                     NaN\n",
            "mean    100.500000     NaN  ...           60.560000               50.200000\n",
            "std      57.879185     NaN  ...           26.264721               25.823522\n",
            "min       1.000000     NaN  ...           15.000000                1.000000\n",
            "25%      50.750000     NaN  ...           41.500000               34.750000\n",
            "50%     100.500000     NaN  ...           61.500000               50.000000\n",
            "75%     150.250000     NaN  ...           78.000000               73.000000\n",
            "max     200.000000     NaN  ...          137.000000               99.000000\n",
            "\n",
            "[11 rows x 5 columns]\n"
          ],
          "name": "stdout"
        }
      ]
    },
    {
      "cell_type": "code",
      "metadata": {
        "id": "NNdrHTnkw86N",
        "outputId": "acaeed00-6218-43de-d015-96117824f623",
        "colab": {
          "base_uri": "https://localhost:8080/"
        }
      },
      "source": [
        "#memfilter hanya data yang numerik, mengabaikan data yang non numerical\n",
        "\n",
        "import pandas as pd\n",
        "\n",
        "df = pd.read_csv(\"shopping_data.csv\")\n",
        "\n",
        "print(df.describe(exclude=['O']))"
      ],
      "execution_count": 2,
      "outputs": [
        {
          "output_type": "stream",
          "text": [
            "       CustomerID         Age  Annual Income (k$)  Spending Score (1-100)\n",
            "count  200.000000  200.000000          200.000000              200.000000\n",
            "mean   100.500000   38.850000           60.560000               50.200000\n",
            "std     57.879185   13.969007           26.264721               25.823522\n",
            "min      1.000000   18.000000           15.000000                1.000000\n",
            "25%     50.750000   28.750000           41.500000               34.750000\n",
            "50%    100.500000   36.000000           61.500000               50.000000\n",
            "75%    150.250000   49.000000           78.000000               73.000000\n",
            "max    200.000000   70.000000          137.000000               99.000000\n"
          ],
          "name": "stdout"
        }
      ]
    },
    {
      "cell_type": "markdown",
      "metadata": {
        "id": "auC-04SuxYnR"
      },
      "source": [
        "#Melakukan pengecekan untuk nilai NULL"
      ]
    },
    {
      "cell_type": "code",
      "metadata": {
        "id": "oN7xHWHbxpcN",
        "outputId": "3cf4735d-5f97-493a-dbb9-c8aa0f713401",
        "colab": {
          "base_uri": "https://localhost:8080/"
        }
      },
      "source": [
        "import pandas as pd\n",
        "\n",
        "df = pd.read_csv(\"shopping_data.csv\")\n",
        "\n",
        "print(df.isnull().values.any())"
      ],
      "execution_count": 4,
      "outputs": [
        {
          "output_type": "stream",
          "text": [
            "False\n"
          ],
          "name": "stdout"
        }
      ]
    },
    {
      "cell_type": "code",
      "metadata": {
        "id": "MOXVnUpGylWY",
        "outputId": "7e26ef69-78a9-48ab-c51b-cd1322745a11",
        "colab": {
          "base_uri": "https://localhost:8080/"
        }
      },
      "source": [
        "import pandas as pd\n",
        "\n",
        "df = pd.read_csv(\"shopping_data_missingvalue.csv\")\n",
        "\n",
        "print(df.isnull().values.any())"
      ],
      "execution_count": 6,
      "outputs": [
        {
          "output_type": "stream",
          "text": [
            "True\n"
          ],
          "name": "stdout"
        }
      ]
    },
    {
      "cell_type": "markdown",
      "metadata": {
        "id": "IqgsEg_xy2pa"
      },
      "source": [
        "#Handling Missing Value\n",
        "\n",
        "Mengisi dengan mean"
      ]
    },
    {
      "cell_type": "code",
      "metadata": {
        "id": "AX66lTlCy9GQ",
        "outputId": "41b92737-306f-4d12-aac8-94ee558e89dd",
        "colab": {
          "base_uri": "https://localhost:8080/"
        }
      },
      "source": [
        "import pandas as pd\n",
        "\n",
        "df = pd.read_csv(\"shopping_data_missingvalue.csv\")\n",
        "\n",
        "print(df.mean())\n",
        "\n",
        "print(\"Dataset yang terdapat nilai kosong: \")\n",
        "print(df.head(10))\n",
        "\n",
        "df = df.fillna(df.mean())\n",
        "print(\"Dataset yang sudah diproses Handling Missing Values dengan Mean: \")\n",
        "print(df.head(10))"
      ],
      "execution_count": 8,
      "outputs": [
        {
          "output_type": "stream",
          "text": [
            "CustomerID                100.500000\n",
            "Age                        38.939698\n",
            "Annual Income (k$)         61.005051\n",
            "Spending Score (1-100)     50.489899\n",
            "dtype: float64\n",
            "Dataset yang terdapat nilai kosong: \n",
            "   CustomerID   Genre   Age  Annual Income (k$)  Spending Score (1-100)\n",
            "0           1    Male  19.0                15.0                    39.0\n",
            "1           2    Male   NaN                15.0                    81.0\n",
            "2           3  Female  20.0                 NaN                     6.0\n",
            "3           4  Female  23.0                16.0                    77.0\n",
            "4           5  Female  31.0                17.0                     NaN\n",
            "5           6  Female  22.0                 NaN                    76.0\n",
            "6           7  Female  35.0                18.0                     6.0\n",
            "7           8  Female  23.0                18.0                    94.0\n",
            "8           9    Male  64.0                19.0                     NaN\n",
            "9          10  Female  30.0                19.0                    72.0\n",
            "Dataset yang sudah diproses Handling Missing Values dengan Mean: \n",
            "   CustomerID   Genre        Age  Annual Income (k$)  Spending Score (1-100)\n",
            "0           1    Male  19.000000           15.000000               39.000000\n",
            "1           2    Male  38.939698           15.000000               81.000000\n",
            "2           3  Female  20.000000           61.005051                6.000000\n",
            "3           4  Female  23.000000           16.000000               77.000000\n",
            "4           5  Female  31.000000           17.000000               50.489899\n",
            "5           6  Female  22.000000           61.005051               76.000000\n",
            "6           7  Female  35.000000           18.000000                6.000000\n",
            "7           8  Female  23.000000           18.000000               94.000000\n",
            "8           9    Male  64.000000           19.000000               50.489899\n",
            "9          10  Female  30.000000           19.000000               72.000000\n"
          ],
          "name": "stdout"
        }
      ]
    },
    {
      "cell_type": "markdown",
      "metadata": {
        "id": "U6hj04FBz5P_"
      },
      "source": [
        "#Normalisasi Data\n",
        "\n",
        "Tujuan dilakukan normalisasi data adalah menyamakan range antar atribut."
      ]
    },
    {
      "cell_type": "markdown",
      "metadata": {
        "id": "QkUAI0LN2FCy"
      },
      "source": [
        "1. Min Max Scaler </br>\n",
        "Metode normalisasi yang bersifat linier dengan data aslinya\n",
        "Menyebabkan out of bound pada beberapa kasus\n",
        "Tidak cocok untuk kasus realtime, cocok untuk time frame analisis dan forecasting\n",
        "2. Z-Score </br>\n",
        "Sering digunakan pada penelitian berbasis data mining. Metode normalisasi berdasarkan nilai rata-rata dan standar deviasi. Kelemahannya adalah prosesenya akan terulang lagi jika ada data baru yang masuk\n",
        "3. Decimal Scaling </br>\n",
        "4. Softmax </br>\n",
        "Metode normalisasi pengembangan transformasi secara linier. Output rangenya adalah 0-1. Berguna saat melibatkan data yang outlier.\n",
        "5. Sigmoid </br>\n",
        "Metode normalisasi menggunakan normalisasi data secara nonlinier ke dalam range -1 s/d 1 dengan menggunakan fungsi sigmoid. Sangat berguna saat melibatkan data outlier.  "
      ]
    },
    {
      "cell_type": "markdown",
      "metadata": {
        "id": "lAOw6-i03v2g"
      },
      "source": [
        "#Praktek Normalisasi menggunakan Scikit Learn pada Python"
      ]
    },
    {
      "cell_type": "code",
      "metadata": {
        "id": "2fTtRe0vzMSB"
      },
      "source": [
        "import pandas as pd\n",
        "import numpy as np\n",
        "from sklearn import preprocessing\n",
        "\n",
        "df = pd.read_csv(\"shopping_data.csv\")\n",
        "array = df.values"
      ],
      "execution_count": 10,
      "outputs": []
    },
    {
      "cell_type": "code",
      "metadata": {
        "id": "9yLCbwwT4IQk",
        "outputId": "458a8ecd-0142-4272-bcaa-b91da1fe7386",
        "colab": {
          "base_uri": "https://localhost:8080/"
        }
      },
      "source": [
        "X = array[:, 2:5] #memisahkan feature dari dataset\n",
        "y = array[:, 0:1] #memisahkan target dari dataset\n",
        "\n",
        "dataset = pd.DataFrame({'Customer ID':array[:,0],'Gender':array[:,1],'Age':array[:,2],'Income':array[:,3],'Spending Score':array[:,4]})\n",
        "print(\"dataset sebelum dinormalisasi: \")\n",
        "print(dataset.head(10))\n",
        "\n",
        "min_max_scaler = preprocessing.MinMaxScaler(feature_range=(0,1)) #inisialisasi normalisasi\n",
        "data = min_max_scaler.fit_transform(X) #transformasi MinMax untuk fitur\n",
        "dataset = pd.DataFrame({'Age':data[:,0],'Income':data[:,1],'Spending Score':data[:,2],'Customer_ID':array[:,0],'Gender':array[:,1]})\n",
        "\n",
        "print(\"dataset setelah dinormalisasi :\")\n",
        "print(dataset.head(10))"
      ],
      "execution_count": 11,
      "outputs": [
        {
          "output_type": "stream",
          "text": [
            "dataset sebelum dinormalisasi: \n",
            "  Customer ID  Gender Age Income Spending Score\n",
            "0           1    Male  19     15             39\n",
            "1           2    Male  21     15             81\n",
            "2           3  Female  20     16              6\n",
            "3           4  Female  23     16             77\n",
            "4           5  Female  31     17             40\n",
            "5           6  Female  22     17             76\n",
            "6           7  Female  35     18              6\n",
            "7           8  Female  23     18             94\n",
            "8           9    Male  64     19              3\n",
            "9          10  Female  30     19             72\n",
            "dataset setelah dinormalisasi :\n",
            "        Age    Income  Spending Score Customer_ID  Gender\n",
            "0  0.019231  0.000000        0.387755           1    Male\n",
            "1  0.057692  0.000000        0.816327           2    Male\n",
            "2  0.038462  0.008197        0.051020           3  Female\n",
            "3  0.096154  0.008197        0.775510           4  Female\n",
            "4  0.250000  0.016393        0.397959           5  Female\n",
            "5  0.076923  0.016393        0.765306           6  Female\n",
            "6  0.326923  0.024590        0.051020           7  Female\n",
            "7  0.096154  0.024590        0.948980           8  Female\n",
            "8  0.884615  0.032787        0.020408           9    Male\n",
            "9  0.230769  0.032787        0.724490          10  Female\n"
          ],
          "name": "stdout"
        }
      ]
    }
  ]
}