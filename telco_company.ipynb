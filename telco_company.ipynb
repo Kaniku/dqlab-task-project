{
  "nbformat": 4,
  "nbformat_minor": 0,
  "metadata": {
    "colab": {
      "name": "telco_company.ipynb",
      "provenance": [],
      "collapsed_sections": []
    },
    "kernelspec": {
      "name": "python3",
      "display_name": "Python 3"
    }
  },
  "cells": [
    {
      "cell_type": "markdown",
      "metadata": {
        "id": "slA2w4ZEm8xx",
        "colab_type": "text"
      },
      "source": [
        "#Data Preprocessing (Data Cleansing) </br>\n",
        "\n",
        "Hal yang akan kita lakukan adalah: </br>\n",
        "1. Mencari ID pelanggan (Nomor telephone) yang valid </br>\n",
        "2. Mengatasi data-data yang masih kosong (Missing Values) </br>\n",
        "3. Mengatasi Nilai-Nilai Pencilan (Outlier) dari setiap Variable </br>\n",
        "4. Menstandarisasi Nilai dari Variable\n"
      ]
    },
    {
      "cell_type": "markdown",
      "metadata": {
        "id": "xVujrMYJxZXB",
        "colab_type": "text"
      },
      "source": [
        "**Library yang digunakan**</br>\n",
        "\n",
        "1. Pandas (Python for Data Analysis) merupakan library Python yang fokus untuk proses analisis data karena library ini diperuntukkan untuk mengolah data. Disini kita akan menggunakan function yang terdapat dalam library Pandas antara lain:\n",
        "\n",
        "\n",
        "*   **read_csv** digunakan untuk membaca file yang memiliki ekstensi csv\n",
        "*   **str.match()** digunakan untuk mencocokkan suatu karakter tertentu\n",
        "*   **drop()** digunakan untuk menghapus\n",
        "*   **count()** digunakan untuk menghitung suatu variabel\n",
        "*   **drop_duplicates()** digunakan untuk menghapus baris-baris yang duplikat\n",
        "*   **fillna()** digunakan untuk mengisi nilai yang kosong dengan nilai tertentu\n",
        "*  **quantile()** digunakan untuk melihat ke quantile tertentu\n",
        "*  **mask()** digunakan untuk mengganti nilai tertentu jika kondisi memenuhi\n",
        "*  **astype()** digunakan untuk mengubah tipe data \n",
        "*  **value_counts()** digunakan untuk menghitung nilai unik pada suatu kolom \n",
        "*  **sort_values()** digunakan untuk menyortir suatu nilai dengan menggunakan suatu kolom spesifik\n",
        "*  **isnull()** untuk mengecek adanya missing values\n",
        "*  **dropna()** digunakan untuk menghapus missing values\n",
        "*  **replace()** digunakan untuk mengganti suatu nilai\n",
        "\n",
        "2. Matplotlib merupakan library python yang digunakan untuk membuat visualisasi data dalam bentuk grafik, plot, histogram, dan sebagainya. \n",
        "*  **figure()** untuk membuat figure gambar baru\n",
        "\n",
        "3. Seaborn menyediakan beberapa plot tambahan untuk mempercantik tampilan.\n",
        "*  **box_plot()** digunakan untuk membuat box_plot\n",
        "\n"
      ]
    },
    {
      "cell_type": "markdown",
      "metadata": {
        "id": "l5DENa2PbLF0",
        "colab_type": "text"
      },
      "source": [
        "**Data yang digunakan**\n",
        "\n",
        "Kolom yang terdapat pada dataset berikut antara lain:\n",
        "*  **UpdatedAt** Waktu kapan data diambil\n",
        "*  **customerID** Customer ID\n",
        "*  **gender** Jenis kelamin customer (Male, Female)\n",
        "*  **SeniorCitizen** Apakah customer adalah senior cetizen atau bukan (1,0)\n",
        "*  **Partner** Apakah customer adalah partner ata bukan (Yes, No)\n",
        "*  **Dependents** Apakah customer memiliki dependents/tanggungan atau tidak (Yes, No)\n",
        "*  **tenure** Berapa lama(bulan) customer sudah berlanggan dengan company\n",
        "*  **PhoneService** Apakah customer memiliki phone service atau tidak (Yes, No)\n",
        "*  **MultipleLines** Apakah customer memiliki multiple lines atau tidak (Yes, No)\n",
        "*  **InternetService** Internet Service Provider yang digunakan oleh customer (DSL, Fiber Optic, No)\n",
        "*  **OnlineSecurity** Apakah customer memiliki online security atau tidak (Yes, No, No Internet Service)\n",
        "*  **OnlineBackUp** Apakah customer memiliki online backup atau tidak (Yes, No, No Internet Service)\n",
        "* **DeviceProtection** Apakah customer memiliki device protection atau tidak (Yes, No, No Internet Service)\n",
        "*  **TechSupport** Apakah customer memiliki tech support atau tidak (Yes, No, No Internet Service)\n",
        "*  **StreamingTV** Apakah customer memiliki streaming TV atau tidak (Yes, No, No Internet Service)\n",
        "*  **StreamingMovies** Apakah customer memiliki streaming movies atau tidak (Yes, No, No Internet Service)\n",
        "*  **Contract** Perjanjian kontrak dengan customer (Month-to-month, One Year, Two Year)\n",
        "*  **PaperlessBilling** Apakah customer memiliki paperless billing atau tidak (Yes, No)\n",
        "*  **PaymentMethod** Metod pembayaran oleh customer (Electronic check, Mailed check, Bank Transfer(automatic), Credit card(automatic))\n",
        "*  **MonthlyCharges** Jumlah yang harus dibayarkan oleh customer tiap bulan\n",
        "*  **TotalCharges** Total jumlah yang harus dibayarkan oleh customer\n",
        "* **Churn** Apakah customer churned(bergejolak, katakanlah pindah ke provider lain) atau tidak (Yes, No)"
      ]
    },
    {
      "cell_type": "code",
      "metadata": {
        "id": "nP0Lw90pm-VV",
        "colab_type": "code",
        "colab": {}
      },
      "source": [
        "#import library dan dataset\n",
        "\n",
        "import pandas as pd\n",
        "#Agar kolom tidak terpotong dan bisa ditampilkan semua\n",
        "pd.options.display.max_columns = 50\n",
        "\n",
        "df_churn = pd.read_csv('dqlab_telco.csv')"
      ],
      "execution_count": null,
      "outputs": []
    },
    {
      "cell_type": "code",
      "metadata": {
        "id": "pcs_327XpJTZ",
        "colab_type": "code",
        "colab": {
          "base_uri": "https://localhost:8080/",
          "height": 296
        },
        "outputId": "8f53e512-384b-40f0-ece3-c9c1d64f968a"
      },
      "source": [
        "#5 data teratas\n",
        "df_churn.head()"
      ],
      "execution_count": null,
      "outputs": [
        {
          "output_type": "execute_result",
          "data": {
            "text/html": [
              "<div>\n",
              "<style scoped>\n",
              "    .dataframe tbody tr th:only-of-type {\n",
              "        vertical-align: middle;\n",
              "    }\n",
              "\n",
              "    .dataframe tbody tr th {\n",
              "        vertical-align: top;\n",
              "    }\n",
              "\n",
              "    .dataframe thead th {\n",
              "        text-align: right;\n",
              "    }\n",
              "</style>\n",
              "<table border=\"1\" class=\"dataframe\">\n",
              "  <thead>\n",
              "    <tr style=\"text-align: right;\">\n",
              "      <th></th>\n",
              "      <th>UpdatedAt</th>\n",
              "      <th>customerID</th>\n",
              "      <th>gender</th>\n",
              "      <th>SeniorCitizen</th>\n",
              "      <th>Partner</th>\n",
              "      <th>Dependents</th>\n",
              "      <th>tenure</th>\n",
              "      <th>PhoneService</th>\n",
              "      <th>MultipleLines</th>\n",
              "      <th>InternetService</th>\n",
              "      <th>OnlineSecurity</th>\n",
              "      <th>OnlineBackup</th>\n",
              "      <th>DeviceProtection</th>\n",
              "      <th>TechSupport</th>\n",
              "      <th>StreamingTV</th>\n",
              "      <th>StreamingMovies</th>\n",
              "      <th>Contract</th>\n",
              "      <th>PaperlessBilling</th>\n",
              "      <th>PaymentMethod</th>\n",
              "      <th>MonthlyCharges</th>\n",
              "      <th>TotalCharges</th>\n",
              "      <th>Churn</th>\n",
              "    </tr>\n",
              "  </thead>\n",
              "  <tbody>\n",
              "    <tr>\n",
              "      <th>0</th>\n",
              "      <td>202006</td>\n",
              "      <td>45759018157</td>\n",
              "      <td>Female</td>\n",
              "      <td>0</td>\n",
              "      <td>Yes</td>\n",
              "      <td>No</td>\n",
              "      <td>1.0</td>\n",
              "      <td>No</td>\n",
              "      <td>No phone service</td>\n",
              "      <td>DSL</td>\n",
              "      <td>No</td>\n",
              "      <td>Yes</td>\n",
              "      <td>No</td>\n",
              "      <td>No</td>\n",
              "      <td>No</td>\n",
              "      <td>No</td>\n",
              "      <td>Month-to-month</td>\n",
              "      <td>Yes</td>\n",
              "      <td>Electronic check</td>\n",
              "      <td>29.85</td>\n",
              "      <td>29.85</td>\n",
              "      <td>No</td>\n",
              "    </tr>\n",
              "    <tr>\n",
              "      <th>1</th>\n",
              "      <td>202006</td>\n",
              "      <td>45557574145</td>\n",
              "      <td>Male</td>\n",
              "      <td>0</td>\n",
              "      <td>No</td>\n",
              "      <td>No</td>\n",
              "      <td>34.0</td>\n",
              "      <td>Yes</td>\n",
              "      <td>No</td>\n",
              "      <td>DSL</td>\n",
              "      <td>Yes</td>\n",
              "      <td>No</td>\n",
              "      <td>Yes</td>\n",
              "      <td>No</td>\n",
              "      <td>No</td>\n",
              "      <td>No</td>\n",
              "      <td>One year</td>\n",
              "      <td>No</td>\n",
              "      <td>Mailed check</td>\n",
              "      <td>56.95</td>\n",
              "      <td>1889.50</td>\n",
              "      <td>No</td>\n",
              "    </tr>\n",
              "    <tr>\n",
              "      <th>2</th>\n",
              "      <td>202006</td>\n",
              "      <td>45366876421</td>\n",
              "      <td>Male</td>\n",
              "      <td>0</td>\n",
              "      <td>No</td>\n",
              "      <td>No</td>\n",
              "      <td>2.0</td>\n",
              "      <td>Yes</td>\n",
              "      <td>No</td>\n",
              "      <td>DSL</td>\n",
              "      <td>Yes</td>\n",
              "      <td>Yes</td>\n",
              "      <td>No</td>\n",
              "      <td>No</td>\n",
              "      <td>No</td>\n",
              "      <td>No</td>\n",
              "      <td>Month-to-month</td>\n",
              "      <td>Yes</td>\n",
              "      <td>Mailed check</td>\n",
              "      <td>53.85</td>\n",
              "      <td>108.15</td>\n",
              "      <td>Yes</td>\n",
              "    </tr>\n",
              "    <tr>\n",
              "      <th>3</th>\n",
              "      <td>202006</td>\n",
              "      <td>45779536532</td>\n",
              "      <td>Male</td>\n",
              "      <td>0</td>\n",
              "      <td>No</td>\n",
              "      <td>No</td>\n",
              "      <td>45.0</td>\n",
              "      <td>No</td>\n",
              "      <td>No phone service</td>\n",
              "      <td>DSL</td>\n",
              "      <td>Yes</td>\n",
              "      <td>No</td>\n",
              "      <td>Yes</td>\n",
              "      <td>Yes</td>\n",
              "      <td>No</td>\n",
              "      <td>No</td>\n",
              "      <td>One year</td>\n",
              "      <td>No</td>\n",
              "      <td>Bank transfer (automatic)</td>\n",
              "      <td>42.30</td>\n",
              "      <td>1840.75</td>\n",
              "      <td>No</td>\n",
              "    </tr>\n",
              "    <tr>\n",
              "      <th>4</th>\n",
              "      <td>202006</td>\n",
              "      <td>45923787906</td>\n",
              "      <td>Female</td>\n",
              "      <td>0</td>\n",
              "      <td>No</td>\n",
              "      <td>No</td>\n",
              "      <td>2.0</td>\n",
              "      <td>Yes</td>\n",
              "      <td>No</td>\n",
              "      <td>Fiber optic</td>\n",
              "      <td>No</td>\n",
              "      <td>No</td>\n",
              "      <td>No</td>\n",
              "      <td>No</td>\n",
              "      <td>No</td>\n",
              "      <td>No</td>\n",
              "      <td>Month-to-month</td>\n",
              "      <td>Yes</td>\n",
              "      <td>Electronic check</td>\n",
              "      <td>70.70</td>\n",
              "      <td>151.65</td>\n",
              "      <td>Yes</td>\n",
              "    </tr>\n",
              "  </tbody>\n",
              "</table>\n",
              "</div>"
            ],
            "text/plain": [
              "   UpdatedAt   customerID  gender  SeniorCitizen Partner Dependents  tenure  \\\n",
              "0     202006  45759018157  Female              0     Yes         No     1.0   \n",
              "1     202006  45557574145    Male              0      No         No    34.0   \n",
              "2     202006  45366876421    Male              0      No         No     2.0   \n",
              "3     202006  45779536532    Male              0      No         No    45.0   \n",
              "4     202006  45923787906  Female              0      No         No     2.0   \n",
              "\n",
              "  PhoneService     MultipleLines InternetService OnlineSecurity OnlineBackup  \\\n",
              "0           No  No phone service             DSL             No          Yes   \n",
              "1          Yes                No             DSL            Yes           No   \n",
              "2          Yes                No             DSL            Yes          Yes   \n",
              "3           No  No phone service             DSL            Yes           No   \n",
              "4          Yes                No     Fiber optic             No           No   \n",
              "\n",
              "  DeviceProtection TechSupport StreamingTV StreamingMovies        Contract  \\\n",
              "0               No          No          No              No  Month-to-month   \n",
              "1              Yes          No          No              No        One year   \n",
              "2               No          No          No              No  Month-to-month   \n",
              "3              Yes         Yes          No              No        One year   \n",
              "4               No          No          No              No  Month-to-month   \n",
              "\n",
              "  PaperlessBilling              PaymentMethod  MonthlyCharges  TotalCharges  \\\n",
              "0              Yes           Electronic check           29.85         29.85   \n",
              "1               No               Mailed check           56.95       1889.50   \n",
              "2              Yes               Mailed check           53.85        108.15   \n",
              "3               No  Bank transfer (automatic)           42.30       1840.75   \n",
              "4              Yes           Electronic check           70.70        151.65   \n",
              "\n",
              "  Churn  \n",
              "0    No  \n",
              "1    No  \n",
              "2   Yes  \n",
              "3    No  \n",
              "4   Yes  "
            ]
          },
          "metadata": {
            "tags": []
          },
          "execution_count": 3
        }
      ]
    },
    {
      "cell_type": "code",
      "metadata": {
        "id": "FazdqRIUozLM",
        "colab_type": "code",
        "colab": {
          "base_uri": "https://localhost:8080/",
          "height": 54
        },
        "outputId": "e6c904e1-4094-4188-d90f-aebc40aa5d1c"
      },
      "source": [
        "#Jumlah baris dan kolom \n",
        "print('Jumlah baris dan kolom adalah: ', df_churn.shape)\n",
        "\n",
        "#Jumlah ID yang unik\n",
        "print('Jumlah customerID yang unik adalah: ', df_churn.customerID.nunique())"
      ],
      "execution_count": null,
      "outputs": [
        {
          "output_type": "stream",
          "text": [
            "Jumlah baris dan kolom adalah:  (7113, 22)\n",
            "Jumlah customerID yang unik adalah:  7017\n"
          ],
          "name": "stdout"
        }
      ]
    },
    {
      "cell_type": "markdown",
      "metadata": {
        "id": "fibZHqVNpf1j",
        "colab_type": "text"
      },
      "source": [
        "**Memfilter ID Number Pelanggan Format Tertentu**\n",
        "\n",
        "Kita akan mencari ID Number (Phone Number) pelanggan **customerID** dengan format:\n",
        "\n",
        "*  Panjang karakter adalah 11-12\n",
        "*  Terdiri dari angka saja, tidak diperbolehkan ada karakter lain selain angka\n",
        "* Diawali dengan angka 45 pada 2 digit pertama\n"
      ]
    },
    {
      "cell_type": "code",
      "metadata": {
        "id": "Gp65i_e_pez0",
        "colab_type": "code",
        "colab": {
          "base_uri": "https://localhost:8080/",
          "height": 35
        },
        "outputId": "3e1ea98b-ec1f-477a-9430-2341d12655db"
      },
      "source": [
        "#Buat kolom valid_id untuk menampung customer ID yang sesuai dengan format\n",
        "\n",
        "df_churn['valid_id'] = df_churn['customerID'].astype(str).str.match(r'(45\\d{9,10})')\n",
        "# astype() digunakan untuk merubah tipe data yang semula numeric ke string\n",
        "# str.match() & regex untuk mencocokkan dengan kriteria di atas\n",
        "\n",
        "df_churn=(df_churn[df_churn['valid_id']==True]).drop('valid_id', axis=1)\n",
        "#drop kolom valid_id dan pertahankan baris yang memiliki value id yang valid atau true\n",
        "\n",
        "print('Hasil jumlah ID Customer yang terfilter adalah', df_churn['customerID'].count())\n",
        "#hitung baris berdasar customerID"
      ],
      "execution_count": null,
      "outputs": [
        {
          "output_type": "stream",
          "text": [
            "Hasil jumlah ID Customer yang terfilter adalah 7006\n"
          ],
          "name": "stdout"
        }
      ]
    },
    {
      "cell_type": "markdown",
      "metadata": {
        "id": "np64YmCqzQAw",
        "colab_type": "text"
      },
      "source": [
        "**Memfilter Duplikasi ID Number Pelanggan**\n",
        "\n",
        "Biasanya duplikasi ID number tipenya:\n",
        "\n",
        "*  Duplikasi dikarenakan inserting melebihi satu kali dengan nilai yang sama tiap kolomnya\n",
        "*  Duplikasi dikarenakan inserting beda periode pengambilan data"
      ]
    },
    {
      "cell_type": "code",
      "metadata": {
        "id": "5EgTR-QHy7Ba",
        "colab_type": "code",
        "colab": {
          "base_uri": "https://localhost:8080/",
          "height": 35
        },
        "outputId": "5828950d-8a8a-48e7-c589-0664ac172ee3"
      },
      "source": [
        "#Drop duplicate rows\n",
        "df_churn.drop_duplicates()\n",
        "\n",
        "#Drop duplicate ID dan dataframe diurutkan berdasarkan Periode\n",
        "df_churn=df_churn.sort_values('UpdatedAt', ascending=False).drop_duplicates(['customerID'])\n",
        "\n",
        "print('Hasil jumlah ID Customer yang sudah dihilangkan suplikasinya adalah', df_churn['customerID'].count())"
      ],
      "execution_count": null,
      "outputs": [
        {
          "output_type": "stream",
          "text": [
            "Hasil jumlah ID Customer yang sudah dihilangkan suplikasinya adalah 6993\n"
          ],
          "name": "stdout"
        }
      ]
    },
    {
      "cell_type": "markdown",
      "metadata": {
        "id": "5KOFC58C1sw8",
        "colab_type": "text"
      },
      "source": [
        "**Kesimpulan**\n",
        "\n",
        "<p style=\"text-align: justify\"> Berdasarkan hasil dari data cleansing jumlah baris pertama di load adalah sebanyak 7113 baris dan 22 kolom dengan 7017 customerID yang unik. Setelah mencek validitas customer ID pelanggan, didapatkan hasil sebanyak 6993 baris. </p>"
      ]
    },
    {
      "cell_type": "markdown",
      "metadata": {
        "id": "O80TXRMP2Qjk",
        "colab_type": "text"
      },
      "source": [
        "**Mengatasi Missing Values dengan Menghapus Baris**\n",
        "\n",
        "<p style=\"text-align: justify\"> Kita akan menghapus baris yang tidak terdeteksi apakah dia churn atau tidak. Disini kita asumsikan data modeller hanya mau menerima data yang benar ada flag churn atau tidak. </p>"
      ]
    },
    {
      "cell_type": "code",
      "metadata": {
        "id": "tHfx5uAn1sDu",
        "colab_type": "code",
        "colab": {
          "base_uri": "https://localhost:8080/",
          "height": 54
        },
        "outputId": "2f149e68-1be2-4adc-f647-2dea9e0b0dab"
      },
      "source": [
        "print('Total Missing Value yang terdapat pada kolom Churn adalah: ', df_churn['Churn'].isnull().sum())\n",
        "\n",
        "#Drop baris yang pada kolom Churnnya terdapat missing value\n",
        "df_churn.dropna(subset=['Churn'], inplace=True)\n",
        "print('Total baris dan kolom setelah dihapus missing valuenya adalah: ', df_churn.shape)"
      ],
      "execution_count": null,
      "outputs": [
        {
          "output_type": "stream",
          "text": [
            "Total Missing Value yang terdapat pada kolom Churn adalah:  43\n",
            "Total baris dan kolom setelah dihapus missing valuenya adalah:  (6950, 22)\n"
          ],
          "name": "stdout"
        }
      ]
    },
    {
      "cell_type": "markdown",
      "metadata": {
        "id": "aM-PVxFI_-xs",
        "colab_type": "text"
      },
      "source": [
        "**Mengatasi Missing Values dengan pengisian nilai tertentu**\n",
        "\n",
        "Cara lain dalam mengatasi missing value dapat dengan mengisi bagian yang missing value tersebut dengan nilai tertentu. Dalam kasus ini diasumsukan data modeller meminta pengisian values dengan kriteria berikut:\n",
        "\n",
        "* **Tenure** pihak data modeller meminta setiap baris yang memiliki missing values untuk lama berlangganan di isi dengan 11\n",
        "*  Variabel yang bersifat numeric selain **Tenure** di isi dengan median dari masing-masing variabel tersebut\n"
      ]
    },
    {
      "cell_type": "code",
      "metadata": {
        "id": "T6nviiKN_-Eg",
        "colab_type": "code",
        "colab": {
          "base_uri": "https://localhost:8080/",
          "height": 917
        },
        "outputId": "ed6ffe04-dd6b-43ef-90ab-6f7e08ae5c62"
      },
      "source": [
        "#Check apakah ada missing values menggunakan values.any()\n",
        "\n",
        "print('Masih terdapat missing value: ', df_churn.isnull().values.any())\n",
        "\n",
        "#Mencari missing value pada tiap kolom kemudian di jumlah berapa banyak missing values pada tiap kolom dan diurutkan berdasarkan yang paling banyak missing valuenya\n",
        "print('Jumlah missing values pada setiap kolom: ')\n",
        "print(df_churn.isnull().sum().sort_values(ascending=False))\n",
        "\n",
        "#Handling missing value pada kolom Tenure dengan mengisikan 11\n",
        "df_churn['tenure'].fillna(11, inplace=True)\n",
        "\n",
        "#Handling missing values pada kolom numerik selain Tenure\n",
        "for nama_kolom in list(['MonthlyCharges','TotalCharges']):\n",
        "  median=df_churn[nama_kolom].median()\n",
        "  df_churn[nama_kolom].fillna(median, inplace=True)\n",
        "\n",
        "print('Jumlah Missing Values pada masing-masing kolom setelah di imputer datanya: ')\n",
        "print(df_churn.isnull().sum().sort_values(ascending=False))\n"
      ],
      "execution_count": null,
      "outputs": [
        {
          "output_type": "stream",
          "text": [
            "Masih terdapat missing value:  True\n",
            "Jumlah missing values pada setiap kolom: \n",
            "tenure              99\n",
            "MonthlyCharges      26\n",
            "TotalCharges        15\n",
            "Churn                0\n",
            "InternetService      0\n",
            "customerID           0\n",
            "gender               0\n",
            "SeniorCitizen        0\n",
            "Partner              0\n",
            "Dependents           0\n",
            "PhoneService         0\n",
            "MultipleLines        0\n",
            "OnlineSecurity       0\n",
            "OnlineBackup         0\n",
            "DeviceProtection     0\n",
            "TechSupport          0\n",
            "StreamingTV          0\n",
            "StreamingMovies      0\n",
            "Contract             0\n",
            "PaperlessBilling     0\n",
            "PaymentMethod        0\n",
            "UpdatedAt            0\n",
            "dtype: int64\n",
            "Jumlah Missing Values pada masing-masing kolom setelah di imputer datanya: \n",
            "Churn               0\n",
            "TotalCharges        0\n",
            "customerID          0\n",
            "gender              0\n",
            "SeniorCitizen       0\n",
            "Partner             0\n",
            "Dependents          0\n",
            "tenure              0\n",
            "PhoneService        0\n",
            "MultipleLines       0\n",
            "InternetService     0\n",
            "OnlineSecurity      0\n",
            "OnlineBackup        0\n",
            "DeviceProtection    0\n",
            "TechSupport         0\n",
            "StreamingTV         0\n",
            "StreamingMovies     0\n",
            "Contract            0\n",
            "PaperlessBilling    0\n",
            "PaymentMethod       0\n",
            "MonthlyCharges      0\n",
            "UpdatedAt           0\n",
            "dtype: int64\n"
          ],
          "name": "stdout"
        }
      ]
    },
    {
      "cell_type": "markdown",
      "metadata": {
        "id": "MgJU-RwEGyNb",
        "colab_type": "text"
      },
      "source": [
        "**Kesimpulan**\n",
        "\n",
        "<p align= \"justify\"> Terdapat Missing Values di beberapa kolom yaitu kolom Churn, tenure, MonthlyCharges & TotalCharges. Namun hal tersebut dapat ditangani dengan mengisi nilai yang kosong tersebut dengan suatu nilai yang diminta atau dengan menggunakan nilai median pada tiap kolom.</p>"
      ]
    },
    {
      "cell_type": "markdown",
      "metadata": {
        "id": "Kun4_APGJvJ0",
        "colab_type": "text"
      },
      "source": [
        "**Mendeteksi adanya Outlier (Boxplot)**\n",
        "\n",
        "<p align= \"justify\"> Untuk mendeteksi adanya Pencilan dari suatu nilai atau outlier adalah dengan menggunakan Box Plot. Boxplot merupakan ringkasan distribusi sampel yang disajikan secara grafis yang bisa menggambarkan bentuk distribusi data (skewness), ukuran tendensi sentral dan ukuran penyebaran (keragaman) data pengamatan.</p>"
      ]
    },
    {
      "cell_type": "code",
      "metadata": {
        "id": "dzf4nd7OKReA",
        "colab_type": "code",
        "colab": {
          "base_uri": "https://localhost:8080/",
          "height": 182
        },
        "outputId": "c5389a55-a949-4d8b-9df5-94818465f07f"
      },
      "source": [
        "print('Persebaran data sebelum melakukan handling pada Outlier: ', df_churn[['tenure','MonthlyCharges','TotalCharges']].describe())"
      ],
      "execution_count": null,
      "outputs": [
        {
          "output_type": "stream",
          "text": [
            "Persebaran data sebelum melakukan handling pada Outlier:              tenure  MonthlyCharges  TotalCharges\n",
            "count  6950.000000     6950.000000   6950.000000\n",
            "mean     32.477266       65.783741   2305.083460\n",
            "std      25.188910       50.457871   2578.651143\n",
            "min       0.000000        0.000000     19.000000\n",
            "25%       9.000000       36.462500    406.975000\n",
            "50%      29.000000       70.450000   1400.850000\n",
            "75%      55.000000       89.850000   3799.837500\n",
            "max     500.000000     2311.000000  80000.000000\n"
          ],
          "name": "stdout"
        }
      ]
    },
    {
      "cell_type": "code",
      "metadata": {
        "id": "YDZg0iLTKxRR",
        "colab_type": "code",
        "colab": {
          "base_uri": "https://localhost:8080/",
          "height": 860
        },
        "outputId": "a1ea7733-aef0-4084-99c4-ccf85e51a057"
      },
      "source": [
        "#import library untuk membuat Box Plot\n",
        "\n",
        "import matplotlib.pyplot as plt\n",
        "import seaborn as sns\n",
        "\n",
        "#Memasukkan variable\n",
        "#Box Plot untuk kolom tenure\n",
        "plt.figure() #untuk membuat figure baru\n",
        "sns.boxplot(x=df_churn['tenure'])\n",
        "plt.show()\n",
        "\n",
        "#Box Plot untuk kolom MonthlyCharges\n",
        "plt.figure()\n",
        "sns.boxplot(x=df_churn['MonthlyCharges'])\n",
        "plt.show()\n",
        "\n",
        "#Box Plot untuk kolom TotalCharges\n",
        "plt.figure()\n",
        "sns.boxplot(x=df_churn['TotalCharges'])\n",
        "plt.show()"
      ],
      "execution_count": null,
      "outputs": [
        {
          "output_type": "stream",
          "text": [
            "/usr/local/lib/python3.6/dist-packages/statsmodels/tools/_testing.py:19: FutureWarning: pandas.util.testing is deprecated. Use the functions in the public API at pandas.testing instead.\n",
            "  import pandas.util.testing as tm\n"
          ],
          "name": "stderr"
        },
        {
          "output_type": "display_data",
          "data": {
            "image/png": "[encoded data removed]",
            "text/plain": [
              "<Figure size 432x288 with 1 Axes>"
            ]
          },
          "metadata": {
            "tags": [],
            "needs_background": "light"
          }
        },
        {
          "output_type": "display_data",
          "data": {
            "image/png": "[encoded data removed]",
            "text/plain": [
              "<Figure size 432x288 with 1 Axes>"
            ]
          },
          "metadata": {
            "tags": [],
            "needs_background": "light"
          }
        },
        {
          "output_type": "display_data",
          "data": {
            "image/png": "[encoded data removed]",
            "text/plain": [
              "<Figure size 432x288 with 1 Axes>"
            ]
          },
          "metadata": {
            "tags": [],
            "needs_background": "light"
          }
        }
      ]
    },
    {
      "cell_type": "markdown",
      "metadata": {
        "id": "9KSlopcVL4m3",
        "colab_type": "text"
      },
      "source": [
        "**Mengatasi Outlier**\n",
        "\n",
        "Setelah mengetahui kolom mana saja yang memiliki outlier, selanjutnya outlier tersebut akan diatasi menggunakan interquartile range (IQR). "
      ]
    },
    {
      "cell_type": "code",
      "metadata": {
        "id": "DRY0jZm6N9m_",
        "colab_type": "code",
        "colab": {
          "base_uri": "https://localhost:8080/",
          "height": 366
        },
        "outputId": "2bbc70f8-ec6a-41c6-be1f-e93cd10ab13c"
      },
      "source": [
        "#Handling Outlier menggunakan IQR\n",
        "#Fungsi quantile untuk melihat nilai quantile tertentu\n",
        "Q1=(df_churn[['tenure', 'MonthlyCharges', 'TotalCharges']]).quantile(0.25)\n",
        "Q3=(df_churn[['tenure', 'MonthlyCharges', 'TotalCharges']]).quantile(0.75)\n",
        "\n",
        "IQR=Q3-Q1\n",
        "maximum= Q3+(1.5*IQR)\n",
        "print('Nilai Maximum dari masing-masing Variabel adalah:\\n', maximum)\n",
        "minimum=Q1-(1.5*IQR)\n",
        "print('Nilai Minimum dari masing-masing Variabel adalah:\\n', minimum)\n",
        "\n",
        "more_than=(df_churn>maximum)\n",
        "lower_than=(df_churn<minimum)\n",
        "#Gunakan mask untuk mereplace nilai ketika kondisi nya adalah True\n",
        "#Jadi ketika ada nilai yang melebihi maximum, nilainya akan direplace oleh nilai maximum yang sudah ditentukan\n",
        "df_churn=df_churn.mask(more_than, maximum,axis=1)\n",
        "df_churn=df_churn.mask(lower_than, minimum,axis=1)\n",
        "\n",
        "print('Persebaran data setelah melakukan handling pada Outlier:', df_churn[['tenure','MonthlyCharges','TotalCharges']].describe())\n"
      ],
      "execution_count": null,
      "outputs": [
        {
          "output_type": "stream",
          "text": [
            "Nilai Maximum dari masing-masing Variabel adalah:\n",
            " tenure             124.00000\n",
            "MonthlyCharges     169.93125\n",
            "TotalCharges      8889.13125\n",
            "dtype: float64\n",
            "Nilai Minimum dari masing-masing Variabel adalah:\n",
            " tenure             -60.00000\n",
            "MonthlyCharges     -43.61875\n",
            "TotalCharges     -4682.31875\n",
            "dtype: float64\n",
            "Persebaran data setelah melakukan handling pada Outlier:             tenure  MonthlyCharges  TotalCharges\n",
            "count  6950.000000     6950.000000   6950.000000\n",
            "mean     32.396691       64.900021   2282.153297\n",
            "std      24.581515       30.037534   2266.014054\n",
            "min     -60.000000      -43.618750  -4682.318750\n",
            "25%       9.000000       36.250000    405.787500\n",
            "50%      29.000000       70.450000   1400.850000\n",
            "75%      55.000000       89.850000   3793.775000\n",
            "max      72.000000      118.600000   8670.100000\n"
          ],
          "name": "stdout"
        }
      ]
    },
    {
      "cell_type": "markdown",
      "metadata": {
        "id": "5ZqTPfGjWAJg",
        "colab_type": "text"
      },
      "source": [
        "**Kesimpulan**\n",
        "\n",
        "<p align= \"justify\"> Dari ketiga boxplot dengan variabel *tenure*, *MonthlyCharges*, & *TotalCharges*, terlihat bahwa terdpat outlier. Hal ini dapat dilihat dari titik yang terletak cukup jauh dari box plotnya. Kemudian nilai outlier tersebut diatasi dengan mengubah nilainya ke nilai Maximum & Minimum dari interquartile range. Setelah mengatasi outlier, dilihat dari persebaran data bahwa tidak ada lagi nilai yang outlier. </p>"
      ]
    },
    {
      "cell_type": "markdown",
      "metadata": {
        "id": "YsODd6Po3LWz",
        "colab_type": "text"
      },
      "source": [
        "**Mendeteksi Nilai yang tidak Standar**\n",
        "\n",
        "<p align= \"justify\"> Disini kita akan melihat nilai yang tidak standar karena kesalahan input. Perbedaan istilah menjadi salah satu faktor yang sering terjadi, untuk itu perlu adanya standar dari data yang telah di input.</p>"
      ]
    },
    {
      "cell_type": "code",
      "metadata": {
        "id": "eXrIebNz3lDv",
        "colab_type": "code",
        "colab": {
          "base_uri": "https://localhost:8080/",
          "height": 1000
        },
        "outputId": "c35af7fe-6734-483d-bfb6-339529c81486"
      },
      "source": [
        "#Loop\n",
        "for nama_kolom in list(['gender', 'SeniorCitizen', 'Partner', 'Dependents', 'PhoneService', 'MultipleLines', 'InternetService', 'OnlineSecurity', 'OnlineBackup', 'DeviceProtection', 'TechSupport', 'StreamingTV', 'StreamingMovies', 'Contract', 'PaperlessBilling', 'PaymentMethod', 'Churn']):\n",
        "  print('Jumlah nilai unik \\033[31m'+'Sebelum di standarisasi \\033[0m dengan Variabel', nama_kolom)\n",
        "  print(df_churn[nama_kolom].value_counts())"
      ],
      "execution_count": null,
      "outputs": [
        {
          "output_type": "stream",
          "text": [
            "Jumlah nilai unik \u001b[31mSebelum di standarisasi \u001b[0m dengan Variabel gender\n",
            "Male         3499\n",
            "Female       3431\n",
            "Wanita         14\n",
            "Laki-Laki       6\n",
            "Name: gender, dtype: int64\n",
            "Jumlah nilai unik \u001b[31mSebelum di standarisasi \u001b[0m dengan Variabel SeniorCitizen\n",
            "0    5822\n",
            "1    1128\n",
            "Name: SeniorCitizen, dtype: int64\n",
            "Jumlah nilai unik \u001b[31mSebelum di standarisasi \u001b[0m dengan Variabel Partner\n",
            "No     3591\n",
            "Yes    3359\n",
            "Name: Partner, dtype: int64\n",
            "Jumlah nilai unik \u001b[31mSebelum di standarisasi \u001b[0m dengan Variabel Dependents\n",
            "No     4870\n",
            "Yes    2060\n",
            "Iya      20\n",
            "Name: Dependents, dtype: int64\n",
            "Jumlah nilai unik \u001b[31mSebelum di standarisasi \u001b[0m dengan Variabel PhoneService\n",
            "Yes    6281\n",
            "No      669\n",
            "Name: PhoneService, dtype: int64\n",
            "Jumlah nilai unik \u001b[31mSebelum di standarisasi \u001b[0m dengan Variabel MultipleLines\n",
            "No                  3346\n",
            "Yes                 2935\n",
            "No phone service     669\n",
            "Name: MultipleLines, dtype: int64\n",
            "Jumlah nilai unik \u001b[31mSebelum di standarisasi \u001b[0m dengan Variabel InternetService\n",
            "Fiber optic    3057\n",
            "DSL            2388\n",
            "No             1505\n",
            "Name: InternetService, dtype: int64\n",
            "Jumlah nilai unik \u001b[31mSebelum di standarisasi \u001b[0m dengan Variabel OnlineSecurity\n",
            "No                     3454\n",
            "Yes                    1991\n",
            "No internet service    1505\n",
            "Name: OnlineSecurity, dtype: int64\n",
            "Jumlah nilai unik \u001b[31mSebelum di standarisasi \u001b[0m dengan Variabel OnlineBackup\n",
            "No                     3045\n",
            "Yes                    2400\n",
            "No internet service    1505\n",
            "Name: OnlineBackup, dtype: int64\n",
            "Jumlah nilai unik \u001b[31mSebelum di standarisasi \u001b[0m dengan Variabel DeviceProtection\n",
            "No                     3054\n",
            "Yes                    2391\n",
            "No internet service    1505\n",
            "Name: DeviceProtection, dtype: int64\n",
            "Jumlah nilai unik \u001b[31mSebelum di standarisasi \u001b[0m dengan Variabel TechSupport\n",
            "No                     3431\n",
            "Yes                    2014\n",
            "No internet service    1505\n",
            "Name: TechSupport, dtype: int64\n",
            "Jumlah nilai unik \u001b[31mSebelum di standarisasi \u001b[0m dengan Variabel StreamingTV\n",
            "No                     2774\n",
            "Yes                    2671\n",
            "No internet service    1505\n",
            "Name: StreamingTV, dtype: int64\n",
            "Jumlah nilai unik \u001b[31mSebelum di standarisasi \u001b[0m dengan Variabel StreamingMovies\n",
            "No                     2747\n",
            "Yes                    2698\n",
            "No internet service    1505\n",
            "Name: StreamingMovies, dtype: int64\n",
            "Jumlah nilai unik \u001b[31mSebelum di standarisasi \u001b[0m dengan Variabel Contract\n",
            "Month-to-month    3823\n",
            "Two year          1670\n",
            "One year          1457\n",
            "Name: Contract, dtype: int64\n",
            "Jumlah nilai unik \u001b[31mSebelum di standarisasi \u001b[0m dengan Variabel PaperlessBilling\n",
            "Yes    4114\n",
            "No     2836\n",
            "Name: PaperlessBilling, dtype: int64\n",
            "Jumlah nilai unik \u001b[31mSebelum di standarisasi \u001b[0m dengan Variabel PaymentMethod\n",
            "Electronic check             2337\n",
            "Mailed check                 1594\n",
            "Bank transfer (automatic)    1519\n",
            "Credit card (automatic)      1500\n",
            "Name: PaymentMethod, dtype: int64\n",
            "Jumlah nilai unik \u001b[31mSebelum di standarisasi \u001b[0m dengan Variabel Churn\n",
            "No       5114\n",
            "Yes      1827\n",
            "Churn       9\n",
            "Name: Churn, dtype: int64\n"
          ],
          "name": "stdout"
        }
      ]
    },
    {
      "cell_type": "markdown",
      "metadata": {
        "id": "a8_2pIF_3il_",
        "colab_type": "text"
      },
      "source": [
        "**Menstandarisasi Variable Kategorik**\n",
        "\n",
        "<p align= \"justify\"> Setelah kita mengetahui variabel mana saja yang tidak standar, maka akan kita standarkan dengan pola terbanyaknya, dengan syarat tanpa mengubah maknanya. Seperti Iya -> Yes. Kemudian lihat kembali nilai unik di masing-masing variabel yang sudah di ubah. </p>"
      ]
    },
    {
      "cell_type": "code",
      "metadata": {
        "id": "DX6js8wG7JvA",
        "colab_type": "code",
        "colab": {
          "base_uri": "https://localhost:8080/",
          "height": 256
        },
        "outputId": "f2fab4f1-1d6e-4a63-8258-18064f3fa9ef"
      },
      "source": [
        "df_churn = df_churn.replace(['Wanita', 'Laki-laki', 'Churn', 'Iya'], ['Female', 'Male', 'Yes', 'Yes'])\n",
        "\n",
        "#Loop\n",
        "for nama_kolom in list(['gender', 'Dependents', 'Churn']):\n",
        "  print('Jumlah nilai unik \\033[31m'+'Setelah di Standarisasi\\033[0m Variabel', nama_kolom)\n",
        "  print(df_churn[nama_kolom].value_counts())"
      ],
      "execution_count": null,
      "outputs": [
        {
          "output_type": "stream",
          "text": [
            "Jumlah nilai unik \u001b[31mSetelah di Standarisasi\u001b[0m Variabel gender\n",
            "Male         3499\n",
            "Female       3445\n",
            "Laki-Laki       6\n",
            "Name: gender, dtype: int64\n",
            "Jumlah nilai unik \u001b[31mSetelah di Standarisasi\u001b[0m Variabel Dependents\n",
            "No     4870\n",
            "Yes    2080\n",
            "Name: Dependents, dtype: int64\n",
            "Jumlah nilai unik \u001b[31mSetelah di Standarisasi\u001b[0m Variabel Churn\n",
            "No     5114\n",
            "Yes    1836\n",
            "Name: Churn, dtype: int64\n"
          ],
          "name": "stdout"
        }
      ]
    },
    {
      "cell_type": "markdown",
      "metadata": {
        "id": "BPaIBQJk8zp8",
        "colab_type": "text"
      },
      "source": [
        "**Kesimpulan**\n",
        "\n",
        "Setelah melihat nilai unik dari variabel kategorik, terlihat ada variabel yang tidak standar, antara lain variabel gender, dependents, dan churn.\n",
        "\n",
        "*  Variabel *gender*: terdapat nilai Female, Male, Wanita, dan Laki-Laki yang nilainya dapat di standarkan menjadi female dan male karena mereka memiliki makna yang sama\n",
        "* Variabel *dependents*: terdapat nilai Yes, No, dan Iya yang dapat distandarkan nilainya menjadi Yes atau No karena memiliki makna yang sama\n",
        "* Variabel *Churn*: yang terdapat nilai Yes, No, dan Churn yang bisa di standarisasi nilainya menjadi Yes atau No karena memiliki makna yang sama"
      ]
    },
    {
      "cell_type": "markdown",
      "metadata": {
        "id": "dmYROKJWDyx2",
        "colab_type": "text"
      },
      "source": [
        "#Customer Churn Prediction using Machine Learning\n",
        "\n",
        "<p align= \"justify\"> Setelah melakukan data cleansing hal yang dilakukan selanjutnya adalah membuat prediksi menggunakan machine learning. Disini kita akan menggunakan studi kasus Telco yang memiliki banyak cabang. Perusahaan Telco ini sangat memperhatikan customer experiencenya sehingga tidak akan ditinggalkan pelanggan. Namun rupanya pelanggan perusahaan Telco ini mulai ditinggalkan dan beralih langganan ke perusahaan kompetitor. Pihak manajemen ingin mengurangi jumlah pelanggan yang beralih (Churn) dengan menggunakan machine learning. Hal yang akan kita lakukan adalah: </p>\n",
        "1. Melakukan Exploratory Data Analysis\n",
        "2. Melakukan Data Pre-Processing\n",
        "3. Melakukan Pemodelan Machine Learning\n",
        "4. Menentuka Model Terbaik"
      ]
    },
    {
      "cell_type": "markdown",
      "metadata": {
        "id": "PyhjICocFJnv",
        "colab_type": "text"
      },
      "source": [
        "**Library yang digunakan**\n",
        "\n",
        "1. Pandas (Python for Data Analysis) adalah library yang biasa digunakan dalam data science untuk melakukan analisa dan manipulasi data\n",
        "*  **read_csv()** untuk membaca file dengan ekstensi csv\n",
        "*  **replace()** untuk mengganti nilai\n",
        "*  **value_counts()** untuk menghitung nilai unik dari suatu kolom\n",
        "*  **drop()** untuk menghapus nilai pada suatu kolom atau baris\n",
        "*  **describe()** untuk melihat deskripsi datanya\n",
        "2. Matplotlib merupakan library yang digunakan untuk visualisasi data seperti membuat plot grafik\n",
        "*  **figure()** untuk membuat figure gambar baru\n",
        "*  **subplots()** untuk membuat gambar dan satu set subplot\n",
        "*  **title()** untuk memberi judul pada gambar\n",
        "*  **ylabel()** untuk memberi label pada sumbu Y gambar\n",
        "*  **xlabel()** untuk memberi label pada sumbu X gambar\n",
        "*  **pie()** untuk membuat pie chart\n",
        "3. Seaborn adalah library yang digunakan untuk membangun plot di atas Matplotlib dan memiliki tipe plot tambahan. Library ini dapat membuat visualisasi yang dibuat Matplotlib menjadi lebih cantik\n",
        "*  **countplot()** untuk membuat plot dengan jumlah pengamatan di setiap bin di kategorik variable\n",
        "*  **heatmap()** adalah teknik visualisasi data menggunakan gradien warna\n",
        "4. Scikit-learn merupakan library yang banyak menyediakan algoritma machine learning\n",
        "*  **LabelEncoder()** untuk merubah nilai pada suatu variabel menjadi 0 atau 1\n",
        "*  **train_test_split()** untuk membagi data menjadi 2 kelompok (Training & Testing)\n",
        "*  **LogisticRegression()** untuk memanggil algoritma Logistic Regression\n",
        "*  **RandomForestClassifier()** untuk memanggil algoritma Random Forest Classifier\n",
        "*  **confusion_matrix()** untuk membuat confusion matrix\n",
        "*  **classification_report()** untuk membuat classification report yang berisi akurasi model\n",
        "5. Xgboost adalah library untuk algoritma extreme gradient boosting (xgboost)\n",
        "*  **XGBClassifier()** untuk memanggil algoritma XG Boost Classifier\n",
        "6. Pickle digunakan dalam mengimplementasikan protokol biner untuk serializing dan de-serializing dari struktur objek Python\n",
        "*  **dump()** untuk menyimpan "
      ]
    },
    {
      "cell_type": "code",
      "metadata": {
        "id": "_TfKgn4UFHK6",
        "colab_type": "code",
        "colab": {}
      },
      "source": [
        "#import library\n",
        "import numpy as np\n",
        "from sklearn.preprocessing import LabelEncoder\n",
        "from sklearn.model_selection import train_test_split\n",
        "from sklearn.linear_model import LogisticRegression\n",
        "from sklearn.ensemble import RandomForestClassifier\n",
        "from sklearn.ensemble import  GradientBoostingClassifier\n",
        "from sklearn.metrics import confusion_matrix, classification_report\n",
        "import pickle\n",
        "from pathlib import Path"
      ],
      "execution_count": null,
      "outputs": []
    },
    {
      "cell_type": "markdown",
      "metadata": {
        "id": "faO9Y43sXw6a",
        "colab_type": "text"
      },
      "source": [
        "<p align= \"justify\"> Disini kita mengansumsikan bahwa untuk mengidentifikasi customer yang beralih ke kompetitor dilihat dari jenis kelamin, senior citizen, partner, berapa lama customer sudah berlangganan, memiliki phone service, memiliki internet service, memiliki streaming tv, memiliki paperless billing, berapa jumlah yang dibebankan kepada customer tiap bulan, dan berapa total yang dibebankan ke customer. </p>"
      ]
    },
    {
      "cell_type": "code",
      "metadata": {
        "id": "osDae0zGXFCU",
        "colab_type": "code",
        "colab": {}
      },
      "source": [
        "#Drop kolom yang tidak dibutuhkan \n",
        "df_churn = df_churn.drop(['Dependents', 'MultipleLines', 'OnlineSecurity', 'OnlineBackup', 'DeviceProtection', 'TechSupport', 'StreamingMovies', 'Contract', 'PaymentMethod'], axis=1)"
      ],
      "execution_count": null,
      "outputs": []
    },
    {
      "cell_type": "code",
      "metadata": {
        "id": "9H2gbRugU-1S",
        "colab_type": "code",
        "colab": {
          "base_uri": "https://localhost:8080/",
          "height": 54
        },
        "outputId": "993d6962-f46e-4dec-bb9f-302613a7e59f"
      },
      "source": [
        "#Menampilkan bentuk dataset\n",
        "print(df_churn.shape)\n",
        "\n",
        "#Menampilkan jumlah ID yang unik\n",
        "print(df_churn.customerID.nunique())"
      ],
      "execution_count": null,
      "outputs": [
        {
          "output_type": "stream",
          "text": [
            "(6950, 13)\n",
            "6950\n"
          ],
          "name": "stdout"
        }
      ]
    },
    {
      "cell_type": "code",
      "metadata": {
        "id": "iJhuudyeVie0",
        "colab_type": "code",
        "colab": {
          "base_uri": "https://localhost:8080/",
          "height": 244
        },
        "outputId": "7060235a-cf2e-4332-8ea6-d445c4767b0f"
      },
      "source": [
        "df_churn.head()"
      ],
      "execution_count": null,
      "outputs": [
        {
          "output_type": "execute_result",
          "data": {
            "text/html": [
              "<div>\n",
              "<style scoped>\n",
              "    .dataframe tbody tr th:only-of-type {\n",
              "        vertical-align: middle;\n",
              "    }\n",
              "\n",
              "    .dataframe tbody tr th {\n",
              "        vertical-align: top;\n",
              "    }\n",
              "\n",
              "    .dataframe thead th {\n",
              "        text-align: right;\n",
              "    }\n",
              "</style>\n",
              "<table border=\"1\" class=\"dataframe\">\n",
              "  <thead>\n",
              "    <tr style=\"text-align: right;\">\n",
              "      <th></th>\n",
              "      <th>UpdatedAt</th>\n",
              "      <th>customerID</th>\n",
              "      <th>gender</th>\n",
              "      <th>SeniorCitizen</th>\n",
              "      <th>Partner</th>\n",
              "      <th>tenure</th>\n",
              "      <th>PhoneService</th>\n",
              "      <th>InternetService</th>\n",
              "      <th>StreamingTV</th>\n",
              "      <th>PaperlessBilling</th>\n",
              "      <th>MonthlyCharges</th>\n",
              "      <th>TotalCharges</th>\n",
              "      <th>Churn</th>\n",
              "    </tr>\n",
              "  </thead>\n",
              "  <tbody>\n",
              "    <tr>\n",
              "      <th>0</th>\n",
              "      <td>202006</td>\n",
              "      <td>45759018157</td>\n",
              "      <td>Female</td>\n",
              "      <td>0</td>\n",
              "      <td>Yes</td>\n",
              "      <td>1.0</td>\n",
              "      <td>No</td>\n",
              "      <td>DSL</td>\n",
              "      <td>No</td>\n",
              "      <td>Yes</td>\n",
              "      <td>29.85</td>\n",
              "      <td>29.85</td>\n",
              "      <td>No</td>\n",
              "    </tr>\n",
              "    <tr>\n",
              "      <th>4727</th>\n",
              "      <td>202006</td>\n",
              "      <td>45315483266</td>\n",
              "      <td>Male</td>\n",
              "      <td>0</td>\n",
              "      <td>Yes</td>\n",
              "      <td>60.0</td>\n",
              "      <td>Yes</td>\n",
              "      <td>No</td>\n",
              "      <td>No internet service</td>\n",
              "      <td>Yes</td>\n",
              "      <td>20.50</td>\n",
              "      <td>1198.80</td>\n",
              "      <td>No</td>\n",
              "    </tr>\n",
              "    <tr>\n",
              "      <th>4738</th>\n",
              "      <td>202006</td>\n",
              "      <td>45236961615</td>\n",
              "      <td>Male</td>\n",
              "      <td>0</td>\n",
              "      <td>No</td>\n",
              "      <td>5.0</td>\n",
              "      <td>Yes</td>\n",
              "      <td>Fiber optic</td>\n",
              "      <td>Yes</td>\n",
              "      <td>No</td>\n",
              "      <td>104.10</td>\n",
              "      <td>541.90</td>\n",
              "      <td>Yes</td>\n",
              "    </tr>\n",
              "    <tr>\n",
              "      <th>4737</th>\n",
              "      <td>202006</td>\n",
              "      <td>45929827382</td>\n",
              "      <td>Female</td>\n",
              "      <td>0</td>\n",
              "      <td>Yes</td>\n",
              "      <td>72.0</td>\n",
              "      <td>Yes</td>\n",
              "      <td>Fiber optic</td>\n",
              "      <td>Yes</td>\n",
              "      <td>Yes</td>\n",
              "      <td>115.50</td>\n",
              "      <td>8312.75</td>\n",
              "      <td>No</td>\n",
              "    </tr>\n",
              "    <tr>\n",
              "      <th>4736</th>\n",
              "      <td>202006</td>\n",
              "      <td>45305082233</td>\n",
              "      <td>Female</td>\n",
              "      <td>0</td>\n",
              "      <td>Yes</td>\n",
              "      <td>56.0</td>\n",
              "      <td>Yes</td>\n",
              "      <td>DSL</td>\n",
              "      <td>Yes</td>\n",
              "      <td>No</td>\n",
              "      <td>81.25</td>\n",
              "      <td>4620.40</td>\n",
              "      <td>No</td>\n",
              "    </tr>\n",
              "  </tbody>\n",
              "</table>\n",
              "</div>"
            ],
            "text/plain": [
              "      UpdatedAt   customerID  gender  SeniorCitizen Partner  tenure  \\\n",
              "0        202006  45759018157  Female              0     Yes     1.0   \n",
              "4727     202006  45315483266    Male              0     Yes    60.0   \n",
              "4738     202006  45236961615    Male              0      No     5.0   \n",
              "4737     202006  45929827382  Female              0     Yes    72.0   \n",
              "4736     202006  45305082233  Female              0     Yes    56.0   \n",
              "\n",
              "     PhoneService InternetService          StreamingTV PaperlessBilling  \\\n",
              "0              No             DSL                   No              Yes   \n",
              "4727          Yes              No  No internet service              Yes   \n",
              "4738          Yes     Fiber optic                  Yes               No   \n",
              "4737          Yes     Fiber optic                  Yes              Yes   \n",
              "4736          Yes             DSL                  Yes               No   \n",
              "\n",
              "      MonthlyCharges  TotalCharges Churn  \n",
              "0              29.85         29.85    No  \n",
              "4727           20.50       1198.80    No  \n",
              "4738          104.10        541.90   Yes  \n",
              "4737          115.50       8312.75    No  \n",
              "4736           81.25       4620.40    No  "
            ]
          },
          "metadata": {
            "tags": []
          },
          "execution_count": 17
        }
      ]
    },
    {
      "cell_type": "markdown",
      "metadata": {
        "id": "PWSt6JUMbivX",
        "colab_type": "text"
      },
      "source": [
        "**Memvisualisasikan Prosentase Churn**\n",
        "\n",
        "Kita ingin melihat visualisasi data terkai prosentase data churn dari pelanggan"
      ]
    },
    {
      "cell_type": "code",
      "metadata": {
        "id": "7jKURPNIbhlU",
        "colab_type": "code",
        "colab": {
          "base_uri": "https://localhost:8080/",
          "height": 319
        },
        "outputId": "4e0d3fdc-49a4-4d74-8776-d77401a8e127"
      },
      "source": [
        "fig = plt.figure()\n",
        "#ax = fig.add_axes([x0, y0, width, height])\n",
        "ax = fig.add_axes([0,0,1,1])\n",
        "ax.axis('equal')\n",
        "labels = ['Yes','No']\n",
        "churn = df_churn.Churn.value_counts()\n",
        "#Jika ingin angka dibelakang koma sebanyak 1 maka gunakan '%1.1f%%, begitu juga seterusnya\n",
        "#ada feature explode = 0.1, 0.1 agar tiap bagian terlihat berpisah\n",
        "ax.pie(churn, labels=labels, explode= (0.1, 0.1), autopct='%.0f%%')\n",
        "plt.show()"
      ],
      "execution_count": null,
      "outputs": [
        {
          "output_type": "display_data",
          "data": {
            "image/png": "[encoded data removed]",
            "text/plain": [
              "<Figure size 432x288 with 1 Axes>"
            ]
          },
          "metadata": {
            "tags": []
          }
        }
      ]
    },
    {
      "cell_type": "markdown",
      "metadata": {
        "id": "68Kw0vdLg72V",
        "colab_type": "text"
      },
      "source": [
        "**Exploratory Data Analysis (EDA) Variabel Numerik**\n",
        "\n",
        "Langkah selanjutnya adalah memilih variabel feature yang bersifat numerik dan membuat plot, kemudian menginterpretasikan.\n"
      ]
    },
    {
      "cell_type": "code",
      "metadata": {
        "id": "GEPh3eaEhT3d",
        "colab_type": "code",
        "colab": {
          "base_uri": "https://localhost:8080/",
          "height": 390
        },
        "outputId": "f47ba066-f913-4aef-e8a0-433baa1fb72d"
      },
      "source": [
        "num_features = ['MonthlyCharges', 'TotalCharges', 'tenure']\n",
        "fig,ax = plt.subplots(1, 3, figsize=(15,6))\n",
        "\n",
        "#Buat histogram\n",
        "df_churn[df_churn.Churn=='No'][num_features].hist(bins=20, color='blue', alpha=0.5, ax=ax)\n",
        "df_churn[df_churn.Churn=='Yes'][num_features].hist(bins=20, color='orange', alpha=0.5, ax=ax)\n",
        "plt.show()"
      ],
      "execution_count": null,
      "outputs": [
        {
          "output_type": "display_data",
          "data": {
            "image/png": "[encoded data removed]",
            "text/plain": [
              "<Figure size 1080x432 with 3 Axes>"
            ]
          },
          "metadata": {
            "tags": [],
            "needs_background": "light"
          }
        }
      ]
    },
    {
      "cell_type": "markdown",
      "metadata": {
        "id": "bsFB5ZdPklu6",
        "colab_type": "text"
      },
      "source": [
        "**Exploratory Data Analysis (EDA) Variabel Kategorik**\n",
        "\n",
        "Langkah selanjutnya adalah memilih variabel feature yang bersifat kategorik dan membuat plot, kemudian menginterpretasikannya."
      ]
    },
    {
      "cell_type": "code",
      "metadata": {
        "id": "nef0jRXDk2g7",
        "colab_type": "code",
        "colab": {
          "base_uri": "https://localhost:8080/",
          "height": 869
        },
        "outputId": "f128a287-664c-4cea-af85-35d2aa9fa2e1"
      },
      "source": [
        "sns.set(style='darkgrid')\n",
        "\n",
        "fig,ax = plt.subplots(3, 3, figsize=(14,12))\n",
        "sns.countplot(data=df_churn, x='gender', hue='Churn', ax=ax[0][0])\n",
        "sns.countplot(data=df_churn, x='Partner', hue='Churn', ax=ax[0][1])\n",
        "sns.countplot(data=df_churn, x='SeniorCitizen', hue='Churn', ax=ax[0][2])\n",
        "sns.countplot(data=df_churn, x='PhoneService', hue='Churn', ax=ax[1][0])\n",
        "sns.countplot(data=df_churn, x='StreamingTV', hue='Churn', ax=ax[1][1])\n",
        "sns.countplot(data=df_churn, x='InternetService', hue='Churn', ax=ax[1][2])\n",
        "sns.countplot(data=df_churn, x='PaperlessBilling', hue='Churn', ax=ax[2][1])\n",
        "plt.tight_layout()\n",
        "plt.show()"
      ],
      "execution_count": null,
      "outputs": [
        {
          "output_type": "display_data",
          "data": {
            "image/png": "[encoded data removed]",
            "text/plain": [
              "<Figure size 1008x864 with 9 Axes>"
            ]
          },
          "metadata": {
            "tags": []
          }
        }
      ]
    },
    {
      "cell_type": "markdown",
      "metadata": {
        "id": "PxuZuTp-fulZ",
        "colab_type": "text"
      },
      "source": [
        "**Kesimpulan**\n",
        "\n",
        "*  Saat mempresentasikan nilai churn, didapatkan bahwa terdapat 26% customer yang beralih ke perusahaan kompetitor (Churn) dan 74% customer tetap bertahan sebagai pelanggan.\n",
        "*  Pada histogram MonthlyCharges, semakin rendah biaya bulanan yang dikenakan customer, semakin kecil kemungkinan customer akan melakukan churn.\n",
        "*  Pada histogram tenure, semakin lama seorang customer berlangganan maka semakin kecil kemungkinan customer akan melakukan churn. \n",
        "*  Pada histogram TotalCharges, tidak terlihat ada kecenderungan apapun pada churn.\n",
        "*  Pada variabel gender dan layanan telefonnya (PhoneService), tidak terlihat kecenderungan signifikan bahwa customer melakukan churn atau tidak.\n",
        "*  Customer yang cenderung melakukan churn adalah customer yang memiliki ciri-ciri orang yang tidak memiliki partner, orang yang merupakan senior citizen, memiliki layanan Streaming TV, memiliki layanan Internet Service, dan menggunakan Paperless Billing. "
      ]
    },
    {
      "cell_type": "markdown",
      "metadata": {
        "id": "T3wV6-OrrRUI",
        "colab_type": "text"
      },
      "source": [
        "**Melakukan Data PreProcessing**\n",
        "\n",
        "**Menghapus Unnecessary Columns dari data** "
      ]
    },
    {
      "cell_type": "code",
      "metadata": {
        "id": "91bUdViotBqw",
        "colab_type": "code",
        "colab": {
          "base_uri": "https://localhost:8080/",
          "height": 256
        },
        "outputId": "afe7cc06-21d6-4f45-a57a-4386aa3eb96f"
      },
      "source": [
        "#Menghapus kolom customerID & UpdatedAt\n",
        "df_clean = df_churn.drop(['customerID', 'UpdatedAt'], axis=1)\n",
        "print(df_clean.head())"
      ],
      "execution_count": null,
      "outputs": [
        {
          "output_type": "stream",
          "text": [
            "      gender  SeniorCitizen Partner  tenure PhoneService InternetService  \\\n",
            "0     Female              0     Yes     1.0           No             DSL   \n",
            "4727    Male              0     Yes    60.0          Yes              No   \n",
            "4738    Male              0      No     5.0          Yes     Fiber optic   \n",
            "4737  Female              0     Yes    72.0          Yes     Fiber optic   \n",
            "4736  Female              0     Yes    56.0          Yes             DSL   \n",
            "\n",
            "              StreamingTV PaperlessBilling  MonthlyCharges  TotalCharges Churn  \n",
            "0                      No              Yes           29.85         29.85    No  \n",
            "4727  No internet service              Yes           20.50       1198.80    No  \n",
            "4738                  Yes               No          104.10        541.90   Yes  \n",
            "4737                  Yes              Yes          115.50       8312.75    No  \n",
            "4736                  Yes               No           81.25       4620.40    No  \n"
          ],
          "name": "stdout"
        }
      ]
    },
    {
      "cell_type": "markdown",
      "metadata": {
        "id": "hfttw4gjs_d6",
        "colab_type": "text"
      },
      "source": [
        "**Encoding Data**\n",
        "\n",
        "<p align= \"justify\"> Encoding data adalah suatu penyandian. Dalam melakukan pengolahan data menggunakan machine learning, data harus berbentuk dataframe dan numerik. Karena terdapat variabel kategorik, maka variabel kategorik itu harus diubah menjadi numerik. Tapi tidak bisa hanya misal terdapat 2 nilai, female dan male. Katakanlah female bernilai 0 dan male bernilai 1. Hanya karena female 0 dan male 1, bukan berarti kedudukan female itu lebih tinggi dari male atau sebaliknya. Maka dari itu digunakan suatu kode. Misal female memiliki kode 01 dan male 10. </p>"
      ]
    },
    {
      "cell_type": "code",
      "metadata": {
        "id": "J4YtquTDyHu9",
        "colab_type": "code",
        "colab": {
          "base_uri": "https://localhost:8080/",
          "height": 550
        },
        "outputId": "a132fd71-2ab8-41ec-8430-0aa4c9230c13"
      },
      "source": [
        "#Mengubah semua kolom non-numerik ke tipe data numerik\n",
        "\n",
        "for kolom in df_clean.columns:\n",
        "  if df_clean[kolom].dtype == np.number: \n",
        "    continue\n",
        "  df_clean[kolom] = LabelEncoder().fit_transform(df_clean[kolom])\n",
        "\n",
        "print(df_clean.describe())"
      ],
      "execution_count": null,
      "outputs": [
        {
          "output_type": "stream",
          "text": [
            "           gender  SeniorCitizen      Partner       tenure  PhoneService  \\\n",
            "count  6950.00000    6950.000000  6950.000000  6950.000000   6950.000000   \n",
            "mean      1.00777       0.162302     0.483309    32.396691      0.903741   \n",
            "std       0.99961       0.368754     0.499757    24.581515      0.294967   \n",
            "min       0.00000       0.000000     0.000000   -60.000000      0.000000   \n",
            "25%       0.00000       0.000000     0.000000     9.000000      1.000000   \n",
            "50%       2.00000       0.000000     0.000000    29.000000      1.000000   \n",
            "75%       2.00000       0.000000     1.000000    55.000000      1.000000   \n",
            "max       2.00000       1.000000     1.000000    72.000000      1.000000   \n",
            "\n",
            "       InternetService  StreamingTV  PaperlessBilling  MonthlyCharges  \\\n",
            "count      6950.000000  6950.000000       6950.000000     6950.000000   \n",
            "mean          0.872950     0.985180          0.591942       64.900021   \n",
            "std           0.737618     0.885069          0.491509       30.037534   \n",
            "min           0.000000     0.000000          0.000000      -43.618750   \n",
            "25%           0.000000     0.000000          0.000000       36.250000   \n",
            "50%           1.000000     1.000000          1.000000       70.450000   \n",
            "75%           1.000000     2.000000          1.000000       89.850000   \n",
            "max           2.000000     2.000000          1.000000      118.600000   \n",
            "\n",
            "       TotalCharges        Churn  \n",
            "count   6950.000000  6950.000000  \n",
            "mean    2282.153297     0.264173  \n",
            "std     2266.014054     0.440923  \n",
            "min    -4682.318750     0.000000  \n",
            "25%      405.787500     0.000000  \n",
            "50%     1400.850000     0.000000  \n",
            "75%     3793.775000     1.000000  \n",
            "max     8670.100000     1.000000  \n"
          ],
          "name": "stdout"
        }
      ]
    },
    {
      "cell_type": "markdown",
      "metadata": {
        "id": "PZu5Rj2Q0Fa0",
        "colab_type": "text"
      },
      "source": [
        "**Splitting Dataset**\n",
        "\n",
        "Kita akan membagi dataset menjadi 2 bagian 30% test dan sisanya untuk training. "
      ]
    },
    {
      "cell_type": "code",
      "metadata": {
        "id": "vmgqxBgA1kwt",
        "colab_type": "code",
        "colab": {
          "base_uri": "https://localhost:8080/",
          "height": 237
        },
        "outputId": "c34d1d4f-78a6-4ac5-b91e-340585c4674d"
      },
      "source": [
        "#Feature and target\n",
        "X = df_clean.drop('Churn', axis=1)\n",
        "y = df_clean['Churn']\n",
        "#Split antara train dan test\n",
        "x_train, x_test, y_train, y_test = train_test_split(X, y, test_size=0.3, random_state=42)\n",
        "\n",
        "print('Jumlah baris dan kolom dari x_train adalah: ', x_train.shape, '\\nJumlah baris dan kolom dari y_train adalah: ', y_train.shape)\n",
        "print('Prosentase Churn di data Training adalah: \\n', y_train.value_counts(normalize=True))\n",
        "print('Jumlah baris dan kolom dari x_test adalah: ', x_test.shape, '\\nJumlah baris dan kolom dari y_test adalah: ', y_test.shape)\n",
        "print('Prosentase Churn di data Testing adalah: \\n', y_test.value_counts(normalize=True))\n"
      ],
      "execution_count": null,
      "outputs": [
        {
          "output_type": "stream",
          "text": [
            "Jumlah baris dan kolom dari x_train adalah:  (4865, 10) \n",
            "Jumlah baris dan kolom dari y_train adalah:  (4865,)\n",
            "Prosentase Churn di data Training adalah: \n",
            " 0    0.734841\n",
            "1    0.265159\n",
            "Name: Churn, dtype: float64\n",
            "Jumlah baris dan kolom dari x_test adalah:  (2085, 10) \n",
            "Jumlah baris dan kolom dari y_test adalah:  (2085,)\n",
            "Prosentase Churn di data Testing adalah: \n",
            " 0    0.738129\n",
            "1    0.261871\n",
            "Name: Churn, dtype: float64\n"
          ],
          "name": "stdout"
        }
      ]
    },
    {
      "cell_type": "markdown",
      "metadata": {
        "id": "NJIKH0zw3j23",
        "colab_type": "text"
      },
      "source": [
        "**Kesimpulan** \n",
        "\n",
        "Dalam melakukan modelling, tidak semua kolom dimasukkan sebagai feature, maka sebaiknya dihilangkan saja, yaitu customerID dan UpdatedAt. Kemudian kita melakukan penyandian terhadap variabel numerik dengan melakukan encoding. Bagian yang terakhir adalah membagi data menjadi 2 bagian, data training dan data test."
      ]
    },
    {
      "cell_type": "markdown",
      "metadata": {
        "id": "AIbX63rw4P3W",
        "colab_type": "text"
      },
      "source": [
        "**Modelling menggunakan Logistic Regression**\n",
        "\n",
        "Suatu model yang menggunakan garis regresi untuk menentukan apakah suatu data memiliki nilai yang salah atau benar. "
      ]
    },
    {
      "cell_type": "code",
      "metadata": {
        "id": "Q5BsHV204O7N",
        "colab_type": "code",
        "colab": {
          "base_uri": "https://localhost:8080/",
          "height": 274
        },
        "outputId": "8c72f55d-4597-43e1-c782-31cb3afe1b4a"
      },
      "source": [
        "#Train model\n",
        "log_model = LogisticRegression().fit(x_train,y_train)\n",
        "print('Model Logistic Regression yang terbentuk adalah: \\n', log_model)\n"
      ],
      "execution_count": null,
      "outputs": [
        {
          "output_type": "stream",
          "text": [
            "Model Logistic Regression yang terbentuk adalah: \n",
            " LogisticRegression(C=1.0, class_weight=None, dual=False, fit_intercept=True,\n",
            "                   intercept_scaling=1, l1_ratio=None, max_iter=100,\n",
            "                   multi_class='auto', n_jobs=None, penalty='l2',\n",
            "                   random_state=None, solver='lbfgs', tol=0.0001, verbose=0,\n",
            "                   warm_start=False)\n"
          ],
          "name": "stdout"
        },
        {
          "output_type": "stream",
          "text": [
            "/usr/local/lib/python3.6/dist-packages/sklearn/linear_model/_logistic.py:940: ConvergenceWarning: lbfgs failed to converge (status=1):\n",
            "STOP: TOTAL NO. of ITERATIONS REACHED LIMIT.\n",
            "\n",
            "Increase the number of iterations (max_iter) or scale the data as shown in:\n",
            "    https://scikit-learn.org/stable/modules/preprocessing.html\n",
            "Please also refer to the documentation for alternative solver options:\n",
            "    https://scikit-learn.org/stable/modules/linear_model.html#logistic-regression\n",
            "  extra_warning_msg=_LOGISTIC_SOLVER_CONVERGENCE_MSG)\n"
          ],
          "name": "stderr"
        }
      ]
    },
    {
      "cell_type": "markdown",
      "metadata": {
        "id": "VB2HEIio6tM4",
        "colab_type": "text"
      },
      "source": [
        "**Performance Model Training - Menampilkan Metrics**\n",
        "\n",
        "Setelah membuat model, dilakukan perhitungan untuk memperoleh classification report dan confusion matrix pada data training.\n"
      ]
    },
    {
      "cell_type": "code",
      "metadata": {
        "id": "sAY03AAv8OCo",
        "colab_type": "code",
        "colab": {
          "base_uri": "https://localhost:8080/",
          "height": 201
        },
        "outputId": "a8e598a3-5608-4eb5-95ba-1abb909983d8"
      },
      "source": [
        "#Prediksi\n",
        "y_train_pred = log_model.predict(x_train)\n",
        "#Print classification report\n",
        "print('Classification Report Training Model (Logistic Regression) :')\n",
        "print(classification_report(y_train, y_train_pred))"
      ],
      "execution_count": null,
      "outputs": [
        {
          "output_type": "stream",
          "text": [
            "Classification Report Training Model (Logistic Regression) :\n",
            "              precision    recall  f1-score   support\n",
            "\n",
            "           0       0.84      0.89      0.86      3575\n",
            "           1       0.63      0.52      0.57      1290\n",
            "\n",
            "    accuracy                           0.79      4865\n",
            "   macro avg       0.73      0.71      0.72      4865\n",
            "weighted avg       0.78      0.79      0.78      4865\n",
            "\n"
          ],
          "name": "stdout"
        }
      ]
    },
    {
      "cell_type": "markdown",
      "metadata": {
        "id": "D-7z6pfP85_c",
        "colab_type": "text"
      },
      "source": [
        "**Performance Model Training - Menampilkan Plots**"
      ]
    },
    {
      "cell_type": "code",
      "metadata": {
        "id": "LomMdeYK8x4C",
        "colab_type": "code",
        "colab": {
          "base_uri": "https://localhost:8080/",
          "height": 331
        },
        "outputId": "bc6a9510-1c31-4c24-e988-28646f1e3dab"
      },
      "source": [
        "#Ubah confusion matrix menjadi DataFrame\n",
        "confusion_matrix_df = pd.DataFrame((confusion_matrix(y_train,y_train_pred)), ('No Churn', 'Churn'), ('No Churn', 'Churn'))\n",
        "\n",
        "#Plot confusion matrix\n",
        "plt.figure()\n",
        "#jika annot bernilai true, maka hasil tiap value akan ditampilkan\n",
        "#format code untuk string, misal untuk berapa angka dibelakang koma\n",
        "#String formatting code to use when adding annotations\n",
        "heatmap = sns.heatmap(confusion_matrix_df, annot=True, annot_kws={'size': 14}, fmt='d', cmap='YlOrRd')\n",
        "heatmap.yaxis.set_ticklabels(heatmap.yaxis.get_ticklabels(), rotation=0, ha='right', fontsize=14)\n",
        "heatmap.xaxis.set_ticklabels(heatmap.xaxis.get_ticklabels(), rotation=0, ha='right', fontsize=14)\n",
        "\n",
        "plt.title('Confusion Matrix for Training Model \\n (LogisticRegression)', fontsize=18, color='red')\n",
        "plt.ylabel('True Label', fontsize=14)\n",
        "plt.xlabel('Predicted Label', fontsize=14)\n",
        "plt.show()"
      ],
      "execution_count": null,
      "outputs": [
        {
          "output_type": "display_data",
          "data": {
            "image/png": "[encoded data removed]",
            "text/plain": [
              "<Figure size 432x288 with 2 Axes>"
            ]
          },
          "metadata": {
            "tags": []
          }
        }
      ]
    },
    {
      "cell_type": "markdown",
      "metadata": {
        "id": "_satAUgj_4lH",
        "colab_type": "text"
      },
      "source": [
        "**Performance Data Testing - Menampilkan Metrics**\n"
      ]
    },
    {
      "cell_type": "code",
      "metadata": {
        "id": "zMgMVGgB_9Ed",
        "colab_type": "code",
        "colab": {
          "base_uri": "https://localhost:8080/",
          "height": 201
        },
        "outputId": "05180579-7b8f-4b7b-b648-8e21552c9732"
      },
      "source": [
        "#Prediksi\n",
        "y_test_pred = log_model.predict(x_test)\n",
        "#Print classification report\n",
        "print('Classification Report Testing model (Logistic Regression): ')\n",
        "print(classification_report(y_test,y_test_pred))"
      ],
      "execution_count": null,
      "outputs": [
        {
          "output_type": "stream",
          "text": [
            "Classification Report Testing model (Logistic Regression): \n",
            "              precision    recall  f1-score   support\n",
            "\n",
            "           0       0.84      0.89      0.86      1539\n",
            "           1       0.61      0.51      0.56       546\n",
            "\n",
            "    accuracy                           0.79      2085\n",
            "   macro avg       0.72      0.70      0.71      2085\n",
            "weighted avg       0.78      0.79      0.78      2085\n",
            "\n"
          ],
          "name": "stdout"
        }
      ]
    },
    {
      "cell_type": "markdown",
      "metadata": {
        "id": "_nX6RcAjAVID",
        "colab_type": "text"
      },
      "source": [
        "**Performance Data Testing - Menampilkan Plots**\n"
      ]
    },
    {
      "cell_type": "code",
      "metadata": {
        "id": "-Wd2_XelHBqI",
        "colab_type": "code",
        "colab": {
          "base_uri": "https://localhost:8080/",
          "height": 331
        },
        "outputId": "dc01b46a-dc4d-43ac-cdf3-65317fbdbfb6"
      },
      "source": [
        "#Mengubah bentuk confusion matrix menjadi DataFrame\n",
        "\n",
        "confusion_matrix_df = pd.DataFrame((confusion_matrix(y_test,y_test_pred)), ('No Churn', 'Churn'), ('No Churn', 'Churn'))\n",
        "\n",
        "#Plot confusion matrix\n",
        "plt.figure()\n",
        "heatmap = sns.heatmap(confusion_matrix_df, annot=True, annot_kws={'size':14}, fmt='d', cmap='YlOrRd')\n",
        "heatmap.yaxis.set_ticklabels(heatmap.yaxis.get_ticklabels(), rotation=0, ha='right', fontsize=14)\n",
        "heatmap.xaxis.set_ticklabels(heatmap.xaxis.get_ticklabels(), rotation=0, ha='right', fontsize=14)\n",
        "\n",
        "plt.title('Confusion Matrix for Testing Model \\n (Logistic Regression)', fontsize=18, color='red')\n",
        "plt.ylabel('True label', fontsize=14)\n",
        "plt.xlabel('Predicted label', fontsize=14)\n",
        "plt.show()"
      ],
      "execution_count": null,
      "outputs": [
        {
          "output_type": "display_data",
          "data": {
            "image/png": "[encoded data removed]",
            "text/plain": [
              "<Figure size 432x288 with 2 Axes>"
            ]
          },
          "metadata": {
            "tags": []
          }
        }
      ]
    },
    {
      "cell_type": "markdown",
      "metadata": {
        "id": "WDh1TVwCKCRG",
        "colab_type": "text"
      },
      "source": [
        "**Kesimpulan**\n",
        "\n",
        "*  Pada data Training, model dapat menghasilkan akurasi hingga 79%. Metode pehitungannya adalah data yang sebenarnya adalah no churn dan diprediksi no churn sebanyak 3173 ditambah dengan data yang sebenarnya adalah churn dan diprediksi churn sebanyak 675 dibagi total semua data. Maka, (3173 + 675)/(3173 + 675 + 402 + 615) = 0.79.\n",
        "*  Pada data Test, model dapat menghasilkan akurasi hingga 79%. Metode pehitungannya adalah data yang sebenarnya adalah no churn dan diprediksi no churn sebanyak 1365 ditambah dengan data yang sebenarnya adalah churn dan diprediksi churn sebanyak 277 dibagi total semua data. Maka, (1365 + 277)/(1365 + 277 + 174 + 269) = 0.79.\n"
      ]
    },
    {
      "cell_type": "markdown",
      "metadata": {
        "id": "TZbFXMsHKc8g",
        "colab_type": "text"
      },
      "source": [
        "**Modelling: Random Forest Classifier**\n",
        "\n",
        "Random Forest Classifier merupakan salah satu metode dari decision tree yang digunakan untuk mengklasifikasikan data berjumlah besar.\n",
        "\n",
        "**Pembuatan Model**"
      ]
    },
    {
      "cell_type": "code",
      "metadata": {
        "id": "Pobwyig0KX77",
        "colab_type": "code",
        "colab": {
          "base_uri": "https://localhost:8080/",
          "height": 164
        },
        "outputId": "4d219af0-d1e8-4a9b-b6ab-e87bfa5fa31d"
      },
      "source": [
        "#Train model\n",
        "rdf_model = RandomForestClassifier().fit(x_train,y_train)\n",
        "print(rdf_model)"
      ],
      "execution_count": null,
      "outputs": [
        {
          "output_type": "stream",
          "text": [
            "RandomForestClassifier(bootstrap=True, ccp_alpha=0.0, class_weight=None,\n",
            "                       criterion='gini', max_depth=None, max_features='auto',\n",
            "                       max_leaf_nodes=None, max_samples=None,\n",
            "                       min_impurity_decrease=0.0, min_impurity_split=None,\n",
            "                       min_samples_leaf=1, min_samples_split=2,\n",
            "                       min_weight_fraction_leaf=0.0, n_estimators=100,\n",
            "                       n_jobs=None, oob_score=False, random_state=None,\n",
            "                       verbose=0, warm_start=False)\n"
          ],
          "name": "stdout"
        }
      ]
    },
    {
      "cell_type": "markdown",
      "metadata": {
        "id": "VvUfxcVDKzAi",
        "colab_type": "text"
      },
      "source": [
        "**Performance Data Training - Menampilkan Metrics**\n"
      ]
    },
    {
      "cell_type": "code",
      "metadata": {
        "id": "WCFICbZtODM9",
        "colab_type": "code",
        "colab": {
          "base_uri": "https://localhost:8080/",
          "height": 201
        },
        "outputId": "400d9609-58a5-4337-8cea-110f8f1df0fe"
      },
      "source": [
        "#Prediksi\n",
        "y_train_pred = rdf_model.predict(x_train)\n",
        "#Print classification report\n",
        "print('Classification Report Training Model (Random Forest): ')\n",
        "print(classification_report(y_train,y_train_pred))"
      ],
      "execution_count": null,
      "outputs": [
        {
          "output_type": "stream",
          "text": [
            "Classification Report Training Model (Random Forest): \n",
            "              precision    recall  f1-score   support\n",
            "\n",
            "           0       1.00      1.00      1.00      3575\n",
            "           1       0.99      0.99      0.99      1290\n",
            "\n",
            "    accuracy                           1.00      4865\n",
            "   macro avg       1.00      0.99      0.99      4865\n",
            "weighted avg       1.00      1.00      1.00      4865\n",
            "\n"
          ],
          "name": "stdout"
        }
      ]
    },
    {
      "cell_type": "markdown",
      "metadata": {
        "id": "6YjHsrMYOk5t",
        "colab_type": "text"
      },
      "source": [
        "**Performance Data Training - Menampilkan Plots**"
      ]
    },
    {
      "cell_type": "code",
      "metadata": {
        "id": "FIdJ_LyxOuwL",
        "colab_type": "code",
        "colab": {
          "base_uri": "https://localhost:8080/",
          "height": 331
        },
        "outputId": "51d8fb17-9056-446a-94b7-0e025f66bb39"
      },
      "source": [
        "#Mengubah bentuk confusion matrix menjadi DataFrame\n",
        "\n",
        "confusion_matrix_df = pd.DataFrame((confusion_matrix(y_train,y_train_pred)),('No Churn', 'Churn'), ('No Churn','Churn'))\n",
        "\n",
        "#Plot confusion matrix\n",
        "plt.figure()\n",
        "heatmap = sns.heatmap(confusion_matrix_df, annot=True, annot_kws={'size':14}, fmt='d', cmap='YlOrRd')\n",
        "heatmap.yaxis.set_ticklabels(heatmap.yaxis.get_ticklabels(), rotation=0, ha='right', fontsize=14)\n",
        "heatmap.xaxis.set_ticklabels(heatmap.xaxis.get_ticklabels(), rotation=0, ha='right', fontsize=14)\n",
        "\n",
        "plt.title('Confusion Matrix for Training Model\\n(Random Forest)', fontsize=18, color='red')\n",
        "plt.ylabel('True label', fontsize=14)\n",
        "plt.xlabel('Predicted label', fontsize=14)\n",
        "plt.show() "
      ],
      "execution_count": null,
      "outputs": [
        {
          "output_type": "display_data",
          "data": {
            "image/png": "[encoded data removed]",
            "text/plain": [
              "<Figure size 432x288 with 2 Axes>"
            ]
          },
          "metadata": {
            "tags": []
          }
        }
      ]
    },
    {
      "cell_type": "markdown",
      "metadata": {
        "id": "DPttMu2IQ0dG",
        "colab_type": "text"
      },
      "source": [
        "**Performance Data Testing - Menampilkan Metrics**\n",
        "\n"
      ]
    },
    {
      "cell_type": "code",
      "metadata": {
        "id": "CAay338xRHE0",
        "colab_type": "code",
        "colab": {
          "base_uri": "https://localhost:8080/",
          "height": 201
        },
        "outputId": "2def513e-5f49-46c1-f99e-20cb78436f9a"
      },
      "source": [
        "#Prediksi\n",
        "y_test_pred = rdf_model.predict(x_test)\n",
        "#Print classification report\n",
        "print('Classification Report Testing Model (Random Forest Classifier): ')\n",
        "print(classification_report(y_test,y_test_pred))"
      ],
      "execution_count": null,
      "outputs": [
        {
          "output_type": "stream",
          "text": [
            "Classification Report Testing Model (Random Forest Classifier): \n",
            "              precision    recall  f1-score   support\n",
            "\n",
            "           0       0.82      0.89      0.85      1539\n",
            "           1       0.59      0.46      0.52       546\n",
            "\n",
            "    accuracy                           0.78      2085\n",
            "   macro avg       0.71      0.68      0.69      2085\n",
            "weighted avg       0.76      0.78      0.77      2085\n",
            "\n"
          ],
          "name": "stdout"
        }
      ]
    },
    {
      "cell_type": "markdown",
      "metadata": {
        "id": "zTdwbMSoR1BQ",
        "colab_type": "text"
      },
      "source": [
        "**Performance Data Testing - Menampilkan Plots**"
      ]
    },
    {
      "cell_type": "code",
      "metadata": {
        "id": "ReoNHn1QR6OQ",
        "colab_type": "code",
        "colab": {
          "base_uri": "https://localhost:8080/",
          "height": 331
        },
        "outputId": "e292c9d5-02d1-4d02-afc7-77f4d2825294"
      },
      "source": [
        "#Membentuk confusion matrix menjadi DataFrame\n",
        "confusion_matrix_df = pd.DataFrame((confusion_matrix(y_test,y_test_pred)), ('No Churn','Churn'),('No Churn','Churn'))\n",
        "\n",
        "#Plot confusion matrix\n",
        "plt.figure()\n",
        "heatmap = sns.heatmap(confusion_matrix_df, annot=True, annot_kws={'size':14}, fmt='d', cmap='YlOrRd')\n",
        "heatmap.yaxis.set_ticklabels(heatmap.yaxis.get_ticklabels(), rotation=0, ha='right', fontsize=14)\n",
        "heatmap.xaxis.set_ticklabels(heatmap.xaxis.get_ticklabels(), rotation=0, ha='right', fontsize=14)\n",
        "\n",
        "plt.title('Confusion Matrix for Testing Model\\n(Random Forest)', fontsize=18, color='red')\n",
        "plt.ylabel('True label', fontsize=14)\n",
        "plt.xlabel('Predicted label', fontsize=14)\n",
        "plt.show()"
      ],
      "execution_count": null,
      "outputs": [
        {
          "output_type": "display_data",
          "data": {
            "image/png": "[encoded data removed]",
            "text/plain": [
              "<Figure size 432x288 with 2 Axes>"
            ]
          },
          "metadata": {
            "tags": []
          }
        }
      ]
    },
    {
      "cell_type": "markdown",
      "metadata": {
        "id": "jh1IGs7BTnT7",
        "colab_type": "text"
      },
      "source": [
        "**Kesimpulan**\n",
        "\n",
        "*  Pada data Training, model dapat menghasilkan akurasi hingga 100%. Metode pehitungannya adalah data yang sebenarnya adalah no churn dan diprediksi no churn sebanyak 3568 ditambah dengan data yang sebenarnya adalah churn dan diprediksi churn sebanyak 1277 dibagi total semua data. Maka, (3568 + 1277)/(3568 + 1277 + 7 + 13) = 0.995.\n",
        "*  Pada data Test, model dapat menghasilkan akurasi hingga 78%. Metode pehitungannya adalah data yang sebenarnya adalah no churn dan diprediksi no churn sebanyak 1365 ditambah dengan data yang sebenarnya adalah churn dan diprediksi churn sebanyak 253 dibagi total semua data. Maka, (1365 + 253)/(1365 + 253 + 174+ 293) = 0.776."
      ]
    },
    {
      "cell_type": "markdown",
      "metadata": {
        "id": "yL5U27u6Tqqe",
        "colab_type": "text"
      },
      "source": [
        "**Algoritma Gradient Boosting Classifier**\n",
        "\n",
        "**Pembuatan Model**"
      ]
    },
    {
      "cell_type": "code",
      "metadata": {
        "id": "gXAyeLMkT2E_",
        "colab_type": "code",
        "colab": {
          "base_uri": "https://localhost:8080/",
          "height": 201
        },
        "outputId": "b4df4422-b079-48fd-f5aa-5bb75fc43317"
      },
      "source": [
        "#Train Model\n",
        "\n",
        "gbt_model = GradientBoostingClassifier().fit(x_train,y_train)\n",
        "print(gbt_model)"
      ],
      "execution_count": null,
      "outputs": [
        {
          "output_type": "stream",
          "text": [
            "GradientBoostingClassifier(ccp_alpha=0.0, criterion='friedman_mse', init=None,\n",
            "                           learning_rate=0.1, loss='deviance', max_depth=3,\n",
            "                           max_features=None, max_leaf_nodes=None,\n",
            "                           min_impurity_decrease=0.0, min_impurity_split=None,\n",
            "                           min_samples_leaf=1, min_samples_split=2,\n",
            "                           min_weight_fraction_leaf=0.0, n_estimators=100,\n",
            "                           n_iter_no_change=None, presort='deprecated',\n",
            "                           random_state=None, subsample=1.0, tol=0.0001,\n",
            "                           validation_fraction=0.1, verbose=0,\n",
            "                           warm_start=False)\n"
          ],
          "name": "stdout"
        }
      ]
    },
    {
      "cell_type": "markdown",
      "metadata": {
        "id": "mzpaLjRiVzWy",
        "colab_type": "text"
      },
      "source": [
        "**Performance Model Data Training - Menampilkan Metrics**"
      ]
    },
    {
      "cell_type": "code",
      "metadata": {
        "id": "d1dpBaQ4V6zY",
        "colab_type": "code",
        "colab": {
          "base_uri": "https://localhost:8080/",
          "height": 201
        },
        "outputId": "8a3dac8e-6c22-4ccc-a814-04c95f86c895"
      },
      "source": [
        "#Prediksi\n",
        "y_train_pred = gbt_model.predict(x_train)\n",
        "#Print classification report\n",
        "print('Classification Report Training Model (Gradient Boosting): ')\n",
        "print(classification_report(y_train,y_train_pred))"
      ],
      "execution_count": null,
      "outputs": [
        {
          "output_type": "stream",
          "text": [
            "Classification Report Training Model (Gradient Boosting): \n",
            "              precision    recall  f1-score   support\n",
            "\n",
            "           0       0.85      0.92      0.88      3575\n",
            "           1       0.70      0.54      0.61      1290\n",
            "\n",
            "    accuracy                           0.82      4865\n",
            "   macro avg       0.77      0.73      0.75      4865\n",
            "weighted avg       0.81      0.82      0.81      4865\n",
            "\n"
          ],
          "name": "stdout"
        }
      ]
    },
    {
      "cell_type": "markdown",
      "metadata": {
        "id": "uDizWXa_WTeA",
        "colab_type": "text"
      },
      "source": [
        "**Performance Model Data Training - Menampilkan Plots**\n"
      ]
    },
    {
      "cell_type": "code",
      "metadata": {
        "id": "ZSKHFHmqWaPO",
        "colab_type": "code",
        "colab": {
          "base_uri": "https://localhost:8080/",
          "height": 331
        },
        "outputId": "f4d7416d-03c1-4bb5-9863-ab2f1d5a7781"
      },
      "source": [
        "#Membentuk confusion matrix menjadi DataFrame\n",
        "confusion_matrix_df = pd.DataFrame((confusion_matrix(y_train,y_train_pred)),('No Churn', 'Churn'),('No Churn', 'Churn'))\n",
        "\n",
        "#Plot confusion matrix\n",
        "plt.figure()\n",
        "heatmap = sns.heatmap(confusion_matrix_df, annot=True, annot_kws={'size':14}, fmt='d', cmap='YlOrRd')\n",
        "heatmap.yaxis.set_ticklabels(heatmap.yaxis.get_ticklabels(), rotation=0, ha='right', fontsize=14)\n",
        "heatmap.xaxis.set_ticklabels(heatmap.xaxis.get_ticklabels(), rotation=0, ha='right', fontsize=14)\n",
        "\n",
        "plt.title('Confusion Matrix for Training Model\\n(Gradient Boosting)', fontsize=18, color='red')\n",
        "plt.ylabel('True label', fontsize=14)\n",
        "plt.xlabel('Predicted label', fontsize=14)\n",
        "plt.show()"
      ],
      "execution_count": null,
      "outputs": [
        {
          "output_type": "display_data",
          "data": {
            "image/png": "[encoded data removed]",
            "text/plain": [
              "<Figure size 432x288 with 2 Axes>"
            ]
          },
          "metadata": {
            "tags": []
          }
        }
      ]
    },
    {
      "cell_type": "markdown",
      "metadata": {
        "id": "g70xLLfdYK1J",
        "colab_type": "text"
      },
      "source": [
        "**Performance Model Data Testing - Menampilkan Metrics**\n"
      ]
    },
    {
      "cell_type": "code",
      "metadata": {
        "id": "e724KzaAYTrb",
        "colab_type": "code",
        "colab": {
          "base_uri": "https://localhost:8080/",
          "height": 201
        },
        "outputId": "a8860239-05c5-4ad5-986b-9134dc1b645b"
      },
      "source": [
        "#Prediksi\n",
        "y_test_pred = gbt_model.predict(x_test)\n",
        "#Print classification report\n",
        "print('Classification Report Testing Model (Gradient Boosting):')\n",
        "print(classification_report(y_test,y_test_pred))"
      ],
      "execution_count": null,
      "outputs": [
        {
          "output_type": "stream",
          "text": [
            "Classification Report Testing Model (Gradient Boosting):\n",
            "              precision    recall  f1-score   support\n",
            "\n",
            "           0       0.83      0.91      0.87      1539\n",
            "           1       0.65      0.49      0.56       546\n",
            "\n",
            "    accuracy                           0.80      2085\n",
            "   macro avg       0.74      0.70      0.72      2085\n",
            "weighted avg       0.79      0.80      0.79      2085\n",
            "\n"
          ],
          "name": "stdout"
        }
      ]
    },
    {
      "cell_type": "markdown",
      "metadata": {
        "id": "KXbOV918cmZM",
        "colab_type": "text"
      },
      "source": [
        "**Performansi Model Data Testing - Menampilkan Plots**"
      ]
    },
    {
      "cell_type": "code",
      "metadata": {
        "id": "BgVUk4JHckWi",
        "colab_type": "code",
        "colab": {
          "base_uri": "https://localhost:8080/",
          "height": 331
        },
        "outputId": "352eb943-d7f7-413b-f93f-5f1ff0a779da"
      },
      "source": [
        "#Membentuk confusion matrix dari DataFrame\n",
        "confusion_matrix_df = pd.DataFrame((confusion_matrix(y_test,y_test_pred)), ('No Churn','Churn'), ('No Churn','Churn'))\n",
        "\n",
        "#Plot confusion matrix\n",
        "plt.figure()\n",
        "heatmap = sns.heatmap(confusion_matrix_df, annot=True, annot_kws={'size':14}, fmt='d', cmap='YlOrRd')\n",
        "heatmap.yaxis.set_ticklabels(heatmap.yaxis.get_ticklabels(), rotation=0, ha='right', fontsize=14)\n",
        "heatmap.xaxis.set_ticklabels(heatmap.xaxis.get_ticklabels(), rotation=0, ha='right', fontsize=14)\n",
        "\n",
        "plt.title('Confusion Matrix for Testing Model\\n(Gradient Boosting)', fontsize=18, color='red')\n",
        "plt.ylabel('True label', fontsize=14)\n",
        "plt.xlabel('Predicted label', fontsize=14)\n",
        "plt.show()"
      ],
      "execution_count": null,
      "outputs": [
        {
          "output_type": "display_data",
          "data": {
            "image/png": "[encoded data removed]",
            "text/plain": [
              "<Figure size 432x288 with 2 Axes>"
            ]
          },
          "metadata": {
            "tags": []
          }
        }
      ]
    },
    {
      "cell_type": "markdown",
      "metadata": {
        "id": "_EhSl42BeMJC",
        "colab_type": "text"
      },
      "source": [
        "**Kesimpulan**\n",
        "\n",
        "*  Pada data Training, model dapat menghasilkan akurasi hingga 82%. Metode pehitungannya adalah data yang sebenarnya adalah no churn dan diprediksi no churn sebanyak 3274 ditambah dengan data yang sebenarnya adalah churn dan diprediksi churn sebanyak 701 dibagi total semua data. Maka, (3274 + 701)/(3274 + 701 + 301 + 589) = 0.817.\n",
        "*  Pada data Test, model dapat menghasilkan akurasi hingga 79%. Metode pehitungannya adalah data yang sebenarnya adalah no churn dan diprediksi no churn sebanyak 1369 ditambah dengan data yang sebenarnya adalah churn dan diprediksi churn sebanyak 239 dibagi total semua data. Maka, (1369 + 239)/(1369 + 239 + 143 +277) = 0.79."
      ]
    },
    {
      "cell_type": "markdown",
      "metadata": {
        "id": "DLK8C3HWePDb",
        "colab_type": "text"
      },
      "source": [
        "**Menentukan Algoritma Model Terbaik**\n",
        "\n",
        "*  Pada algoritma logistic regression, didapatkan akurasi data training sebesar 79% dan akurasi data test sebesar 79%. Ini bisa dinamakan model yang appropriate - fitting.\n",
        "*  Pada algoritma random forest classifier, didapatkan akurasi data training sebesar 100% namun akurasi data test sebesar 78%. Ini bisa dinamakan model yang overfitting, dimana model sangat baik saat memprediksi data training daripada data testnya.\n",
        "*  Pada algoritma gradient boosting classifier, didapatkan akurasi data training sebesar 82% dan akurasi data test sebsar 79%.  Ini bisa dinamakan model yang overfitting, dimana model sangat baik saat memprediksi data training daripada data testnya.\n",
        "*  Dalam kasus ini, algoritma yang baik adalah logistic regression."
      ]
    }
  ]
}
