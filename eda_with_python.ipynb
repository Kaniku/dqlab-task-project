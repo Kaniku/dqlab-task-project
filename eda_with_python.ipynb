{
  "nbformat": 4,
  "nbformat_minor": 0,
  "metadata": {
    "colab": {
      "name": "eda_with_python.ipynb",
      "provenance": [],
      "collapsed_sections": []
    },
    "kernelspec": {
      "name": "python3",
      "display_name": "Python 3"
    }
  },
  "cells": [
    {
      "cell_type": "markdown",
      "metadata": {
        "id": "Ojar-2sjtOsU",
        "colab_type": "text"
      },
      "source": [
        "#Exploratory Data Analysis\n",
        "\n",
        "Proyek ini berdasarkan modul Exploratory Data Analysis with Python for Beginner di platform DQLab. Disini saya akan mempraktekkan tahapan dalam melakukan exploratory data analysis."
      ]
    },
    {
      "cell_type": "code",
      "metadata": {
        "id": "ZkEF1JJorF68",
        "colab_type": "code",
        "colab": {
          "base_uri": "https://localhost:8080/",
          "height": 35
        },
        "outputId": "f3bd66a4-7de6-428c-b597-f1a11f29f92e"
      },
      "source": [
        "#Mengecek jumlah baris dan kolom pada dataset\n",
        "import pandas as pd\n",
        "order_df = pd.read_csv(\"order.csv\")\n",
        "print(order_df.shape)"
      ],
      "execution_count": 1,
      "outputs": [
        {
          "output_type": "stream",
          "text": [
            "(49999, 12)\n"
          ],
          "name": "stdout"
        }
      ]
    },
    {
      "cell_type": "code",
      "metadata": {
        "id": "6eWg5HmaDJKR",
        "colab_type": "code",
        "colab": {
          "base_uri": "https://localhost:8080/",
          "height": 384
        },
        "outputId": "bf0a0ea8-01f3-4285-b299-2f920f6839d0"
      },
      "source": [
        "print(order_df.info())"
      ],
      "execution_count": 5,
      "outputs": [
        {
          "output_type": "stream",
          "text": [
            "<class 'pandas.core.frame.DataFrame'>\n",
            "RangeIndex: 49999 entries, 0 to 49998\n",
            "Data columns (total 12 columns):\n",
            " #   Column                 Non-Null Count  Dtype  \n",
            "---  ------                 --------------  -----  \n",
            " 0   order_id               49999 non-null  object \n",
            " 1   quantity               49999 non-null  int64  \n",
            " 2   product_id             49999 non-null  object \n",
            " 3   price                  49999 non-null  int64  \n",
            " 4   seller_id              49999 non-null  object \n",
            " 5   freight_value          49999 non-null  int64  \n",
            " 6   customer_id            49999 non-null  object \n",
            " 7   order_status           49999 non-null  object \n",
            " 8   purchase_date          49999 non-null  object \n",
            " 9   payment_type           49999 non-null  object \n",
            " 10  product_category_name  49999 non-null  object \n",
            " 11  product_weight_gram    49980 non-null  float64\n",
            "dtypes: float64(1), int64(3), object(8)\n",
            "memory usage: 4.6+ MB\n",
            "None\n"
          ],
          "name": "stdout"
        }
      ]
    },
    {
      "cell_type": "code",
      "metadata": {
        "id": "dlIE0TRlt1iB",
        "colab_type": "code",
        "colab": {
          "base_uri": "https://localhost:8080/",
          "height": 329
        },
        "outputId": "23466f8b-fb97-4e15-975d-b00f9c65f944"
      },
      "source": [
        "#Mendapatkan quick summary dari segi kuantitas, harga, freight value, dan weight menggunakan fungsi describe()\n",
        "print(\"Quick summary : \\n\", order_df.describe(include=\"all\"))\n",
        "\n",
        "#Mean dari total pembelian konsumen per transakssi kolom price\n",
        "print(\"Mean dari total pembelian konsumen per transaksi pada kolom price : \\n\", order_df.loc[:, \"price\"].mean())\n"
      ],
      "execution_count": 10,
      "outputs": [
        {
          "output_type": "stream",
          "text": [
            "Quick summary : \n",
            "                                 order_id  ...  product_weight_gram\n",
            "count                              49999  ...         49980.000000\n",
            "unique                             42694  ...                  NaN\n",
            "top     8272b63d03f5f79c56e9e4120aec44ef  ...                  NaN\n",
            "freq                                  21  ...                  NaN\n",
            "mean                                 NaN  ...          2201.830892\n",
            "std                                  NaN  ...          3929.896875\n",
            "min                                  NaN  ...            50.000000\n",
            "25%                                  NaN  ...           300.000000\n",
            "50%                                  NaN  ...           800.000000\n",
            "75%                                  NaN  ...          1850.000000\n",
            "max                                  NaN  ...         40425.000000\n",
            "\n",
            "[11 rows x 12 columns]\n",
            "Mean dari total pembelian konsumen per transaksi pada kolom price : \n",
            " 2607783.9156783135\n"
          ],
          "name": "stdout"
        }
      ]
    },
    {
      "cell_type": "code",
      "metadata": {
        "id": "QIUfE2gczQVe",
        "colab_type": "code",
        "colab": {
          "base_uri": "https://localhost:8080/",
          "height": 348
        },
        "outputId": "bb2185eb-1075-4e19-d45d-2e6f7814b8f8"
      },
      "source": [
        "#Membuat distribusi data dengan histogram\n",
        "import matplotlib.pyplot as plt\n",
        "\n",
        "#Plot histogram kolom: price\n",
        "order_df.hist(column=\"price\", figsize=(4,5), bins=10, xlabelsize=8, ylabelsize=8)\n",
        "plt.show()"
      ],
      "execution_count": 15,
      "outputs": [
        {
          "output_type": "display_data",
          "data": {
            "image/png": "[encoded data removed]",
            "text/plain": [
              "<Figure size 288x360 with 1 Axes>"
            ]
          },
          "metadata": {
            "tags": [],
            "needs_background": "light"
          }
        }
      ]
    },
    {
      "cell_type": "code",
      "metadata": {
        "id": "ig4tc8q4z-V_",
        "colab_type": "code",
        "colab": {
          "base_uri": "https://localhost:8080/",
          "height": 35
        },
        "outputId": "a2bd2b35-7528-448a-9ba1-383df86ac8e7"
      },
      "source": [
        "#Mengecek standar deviasi dan varians\n",
        "\n",
        "#Standar deviasi kolom product_weight_gram\n",
        "order_df.loc[:, \"product_weight_gram\"].std()\n",
        "\n",
        "#Varians kolom product_weight_gram\n",
        "order_df.loc[:, \"product_weight_gram\"].var()"
      ],
      "execution_count": 16,
      "outputs": [
        {
          "output_type": "execute_result",
          "data": {
            "text/plain": [
              "15444089.451064402"
            ]
          },
          "metadata": {
            "tags": []
          },
          "execution_count": 16
        }
      ]
    },
    {
      "cell_type": "code",
      "metadata": {
        "id": "10n2W0YG0fV5",
        "colab_type": "code",
        "colab": {
          "base_uri": "https://localhost:8080/",
          "height": 72
        },
        "outputId": "195486f1-24c3-4423-d253-b0b089be5d35"
      },
      "source": [
        "#Mengecek outlier pada data\n",
        "\n",
        "#Menghitung quartile 1\n",
        "Q1 = order_df[[\"product_weight_gram\"]].quantile(0.25)\n",
        "#Menghitung quartile 3\n",
        "Q3 = order_df[[\"product_weight_gram\"]].quantile(0.75)\n",
        "#Menghitung interquartile\n",
        "IQR = Q3 - Q1\n",
        "\n",
        "print(\"IQR = \\n\", IQR)"
      ],
      "execution_count": 19,
      "outputs": [
        {
          "output_type": "stream",
          "text": [
            "IQR = \n",
            " product_weight_gram    1550.0\n",
            "dtype: float64\n"
          ],
          "name": "stdout"
        }
      ]
    },
    {
      "cell_type": "code",
      "metadata": {
        "id": "vkOHz3Wc1xkV",
        "colab_type": "code",
        "colab": {
          "base_uri": "https://localhost:8080/",
          "height": 1000
        },
        "outputId": "d2f008ac-d580-4c74-9049-b23cd5e5d6dd"
      },
      "source": [
        "#Mengganti nama kolom freight_value menjadi shipping_cost\n",
        "\n",
        "order_df.rename(columns={\"freight_value\": \"shipping_cost\"}, inplace=True)\n",
        "pd.options.display.max_columns = 12\n",
        "\n",
        "print(order_df)"
      ],
      "execution_count": 23,
      "outputs": [
        {
          "output_type": "stream",
          "text": [
            "                               order_id  quantity  \\\n",
            "0      2e7a8482f6fb09756ca50c10d7bfc047         2   \n",
            "1      2e7a8482f6fb09756ca50c10d7bfc047         1   \n",
            "2      e5fa5a7210941f7d56d0208e4e071d35         1   \n",
            "3      3b697a20d9e427646d92567910af6d57         1   \n",
            "4      71303d7e93b399f5bcd537d124c0bcfa         1   \n",
            "...                                 ...       ...   \n",
            "49994  ec88157ad03aa203c3fdfe7bace5ab6b         1   \n",
            "49995  ed60085e92e2aa3debf49159deb34da7         1   \n",
            "49996  ed98c37d860890f940e2acd83629fdd1         2   \n",
            "49997  ed98c37d860890f940e2acd83629fdd1         1   \n",
            "49998  ede4ebbb6e36cbd377eabcc7f5229575         1   \n",
            "\n",
            "                             product_id    price  \\\n",
            "0      f293394c72c9b5fafd7023301fc21fc2  1489000   \n",
            "1      c1488892604e4ba5cff5b4eb4d595400  1756000   \n",
            "2      f3c2d01a84c947b078e32bbef0718962  1707000   \n",
            "3      3ae08df6bcbfe23586dd431c40bddbb7  3071000   \n",
            "4      d2998d7ced12f83f9b832f33cf6507b6  3833000   \n",
            "...                                 ...      ...   \n",
            "49994  165f86fe8b799a708a20ee4ba125c289  3077000   \n",
            "49995  6e835aea84ae8eb68b8c14878dd43b30  1277000   \n",
            "49996  aca2eb7d00ea1a7b8ebd4e68314663af   486000   \n",
            "49997  aca2eb7d00ea1a7b8ebd4e68314663af   830000   \n",
            "49998  2b0ee2d07306f7c9ac55a43166e9bb4b   215000   \n",
            "\n",
            "                              seller_id  shipping_cost  \\\n",
            "0      1554a68530182680ad5c8b042c3ab563          28000   \n",
            "1      1554a68530182680ad5c8b042c3ab563          45000   \n",
            "2      a425f92c199eb576938df686728acd20         174000   \n",
            "3      522620dcb18a6b31cd7bdf73665113a9         154000   \n",
            "4      25e6ffe976bd75618accfe16cefcbd0d         147000   \n",
            "...                                 ...            ...   \n",
            "49994  7ddcbb64b5bc1ef36ca8c151f6ec77df         172000   \n",
            "49995  4d6d651bd7684af3fffabd5f08d12e5a         130000   \n",
            "49996  955fee9216a65b617aa5c0531780ce60          14000   \n",
            "49997  955fee9216a65b617aa5c0531780ce60         108000   \n",
            "49998  1900267e848ceeba8fa32d80c1a5f5a8         189000   \n",
            "\n",
            "                            customer_id order_status purchase_date  \\\n",
            "0      08c5351a6aca1c1589a38f244edeee9d      shipped    2016-09-05   \n",
            "1      08c5351a6aca1c1589a38f244edeee9d      shipped    2016-09-05   \n",
            "2      683c54fc24d40ee9f8a6fc179fd9856c     canceled    2016-09-05   \n",
            "3      355077684019f7f60a031656bd7262b8    delivered    2016-10-03   \n",
            "4      b106b360fe2ef8849fbbd056f777b4d5     canceled    2016-10-03   \n",
            "...                                 ...          ...           ...   \n",
            "49994  1642b8087a8ca0c8592becff7e183c98    delivered    2017-12-15   \n",
            "49995  431bbb57d52f3141ab2f33a6a4cf00a6    delivered    2017-12-15   \n",
            "49996  71f8cd490677ee95362201588c0eaff4    delivered    2017-12-15   \n",
            "49997  71f8cd490677ee95362201588c0eaff4    delivered    2017-12-15   \n",
            "49998  60d2d93a97ec1ad751f2ddce9249ba2a    delivered    2017-12-15   \n",
            "\n",
            "          payment_type product_category_name  product_weight_gram  \n",
            "0      virtual account               fashion               1800.0  \n",
            "1      virtual account            automotive               1400.0  \n",
            "2             e-wallet                  toys                700.0  \n",
            "3             e-wallet             utilities                300.0  \n",
            "4             e-wallet               fashion                500.0  \n",
            "...                ...                   ...                  ...  \n",
            "49994         e-wallet            automotive               2425.0  \n",
            "49995       debit card                beauty               2350.0  \n",
            "49996       debit card                gadget               2600.0  \n",
            "49997         e-wallet                gadget               2600.0  \n",
            "49998      credit card                beauty               1450.0  \n",
            "\n",
            "[49999 rows x 12 columns]\n"
          ],
          "name": "stdout"
        }
      ]
    },
    {
      "cell_type": "code",
      "metadata": {
        "id": "9NdfNLcQ2Hab",
        "colab_type": "code",
        "colab": {
          "base_uri": "https://localhost:8080/",
          "height": 127
        },
        "outputId": "9dc335ad-63d5-4332-a378-44850cc305c5"
      },
      "source": [
        "#Menghitung rata-rata dari price per payment_type menggunakan fungsi groupby()\n",
        "rata_rata = order_df[\"price\"].groupby(order_df[\"payment_type\"]).mean()\n",
        "print(rata_rata)"
      ],
      "execution_count": 28,
      "outputs": [
        {
          "output_type": "stream",
          "text": [
            "payment_type\n",
            "credit card        2.600706e+06\n",
            "debit card         2.611974e+06\n",
            "e-wallet           2.598562e+06\n",
            "virtual account    2.619786e+06\n",
            "Name: price, dtype: float64\n"
          ],
          "name": "stdout"
        }
      ]
    },
    {
      "cell_type": "code",
      "metadata": {
        "id": "5bcXUYw-2f-N",
        "colab_type": "code",
        "colab": {
          "base_uri": "https://localhost:8080/",
          "height": 1000
        },
        "outputId": "e8453855-046c-47fb-d1dd-72bbdcb367a3"
      },
      "source": [
        "#Sorting\n",
        "#Menghitung harga maksimum pembelian customer\n",
        "sort_harga = order_df.sort_values(by=\"price\", ascending=False)\n",
        "print(sort_harga)"
      ],
      "execution_count": 29,
      "outputs": [
        {
          "output_type": "stream",
          "text": [
            "                               order_id  quantity  \\\n",
            "37085  d7b2d3b902441cf3dd12cd125533217d         1   \n",
            "41958  2711089c7fec59d4dc8483e3c6a12fa3         1   \n",
            "3976   f343624eab419250ad81f1ce6be22c93         1   \n",
            "21072  c8947a583ab9791a5a9d02384cb84302         1   \n",
            "47074  f6134169ca6f0cdfbe6458ebb5731613         1   \n",
            "...                                 ...       ...   \n",
            "33786  0d9e86e02c1a823b20c03ea29d616607         1   \n",
            "42166  54220fcc516cabe9ec84b210c0765ef2         1   \n",
            "31745  59a19c83ff825948739dd1601cc107b6         1   \n",
            "42452  9960ee97c2f8d801a200a01893b3942f         1   \n",
            "11939  64619901c45fba79638d666058bf6be6         1   \n",
            "\n",
            "                             product_id    price  \\\n",
            "37085  35afc973633aaeb6b877ff57b2793310  5000000   \n",
            "41958  7c1bd920dbdf22470b68bde975dd3ccf  5000000   \n",
            "3976   777d2e438a1b645f3aec9bd57e92672c  5000000   \n",
            "21072  f8cfb63e323be2e1c4172f255d61843d  5000000   \n",
            "47074  2ea92fab7565c4fe9f91a5e4e1756258  5000000   \n",
            "...                                 ...      ...   \n",
            "33786  f93213a23c50edc16c27b96333f734dc   200000   \n",
            "42166  1166bc797ddf5fb009c376d133f61204   200000   \n",
            "31745  eb38a7604070a2b8465101ed53cba72b   200000   \n",
            "42452  db5efde3ad0cc579b130d71c4b2db522   200000   \n",
            "11939  06c6e01186af8b98ee1fc9e01f9471e9   200000   \n",
            "\n",
            "                              seller_id  shipping_cost  \\\n",
            "37085  4a3ca9315b744ce9f8e9374361493884         118000   \n",
            "41958  cc419e0650a3c5ba77189a1882b7556a          31000   \n",
            "3976   4a3ca9315b744ce9f8e9374361493884         101000   \n",
            "21072  4a3ca9315b744ce9f8e9374361493884         184000   \n",
            "47074  3d871de0142ce09b7081e2b9d1733cb1         196000   \n",
            "...                                 ...            ...   \n",
            "33786  46dc3b2cc0980fb8ec44634e21d2718e         141000   \n",
            "42166  5cbbd5a299cab112b7bf23862255e43e         175000   \n",
            "31745  e6a69c4a27dfdd98ffe5aa757ad744bc         112000   \n",
            "42452  4869f7a5dfa277a7dca6462dcf3b52b2          26000   \n",
            "11939  fc906263ca5083d09dce42fe02247800          98000   \n",
            "\n",
            "                            customer_id order_status purchase_date  \\\n",
            "37085  217344c7c334e16c8e76551b4b240c1d    delivered    2017-10-31   \n",
            "41958  0ef59d9bb071def3dbf7e7b055965e95    delivered    2017-11-24   \n",
            "3976   3fc0d940852ab274e532e80b1c1d5c2f    delivered    2017-03-07   \n",
            "21072  57c047e791e69bef0af220b0a165a22d    delivered    2017-07-27   \n",
            "47074  cbfdcc896d6ebc83c21fdcf4f4762efc    delivered    2017-12-04   \n",
            "...                                 ...          ...           ...   \n",
            "33786  edaad9e07395713e9f5a2124f6c846a1    delivered    2017-10-13   \n",
            "42166  24e7dc2ff8c07126358af519732b8558    delivered    2017-11-24   \n",
            "31745  2bf857ee40b763708fe19cf877cac511    delivered    2017-10-01   \n",
            "42452  54af40597a8931fea3fbb2b37656fc8d    delivered    2017-11-24   \n",
            "11939  3a1dda1ede23d7e71753e80d7f22c2c4    delivered    2017-05-21   \n",
            "\n",
            "          payment_type product_category_name  product_weight_gram  \n",
            "37085       debit card                beauty               1825.0  \n",
            "41958         e-wallet               fashion                200.0  \n",
            "3976        debit card                gadget                950.0  \n",
            "21072      credit card                beauty                550.0  \n",
            "47074  virtual account                gadget              10600.0  \n",
            "...                ...                   ...                  ...  \n",
            "33786       debit card            automotive               7550.0  \n",
            "42166         e-wallet                gadget               1100.0  \n",
            "31745         e-wallet                beauty                550.0  \n",
            "42452      credit card            automotive               6663.0  \n",
            "11939  virtual account            automotive                200.0  \n",
            "\n",
            "[49999 rows x 12 columns]\n"
          ],
          "name": "stdout"
        }
      ]
    },
    {
      "cell_type": "markdown",
      "metadata": {
        "id": "bzI0H0hF2zY2",
        "colab_type": "text"
      },
      "source": [
        "Studi kasus menggunakan dataset order.csv\n",
        "\n",
        "Hal yang perlu dilakukan antara lain:\n",
        "1. Median price yang dibayar customer dari masing-masing metode pembayaran.\n",
        "2. Tentukan metode pembayaran yang memiliki basket size (rataan median price) terbesar.\n",
        "3. Ubah freight_value menjadi shipping_cost termahal dari data penjualan tersebut menggunakan sort.\n",
        "4. Untuk product_category_name, berapa rata-rata weight produk tersebut dan standar deviasi mana yang kecil dari weight tersebut\n",
        "5. Buat histogram quantity penjualan dari dataset tersebut untuk melihat persebaran quantity penjualan tersebut dengan bins = 5 dan figsize = (4,5)"
      ]
    },
    {
      "cell_type": "code",
      "metadata": {
        "id": "9Qu0LD-27uHm",
        "colab_type": "code",
        "colab": {
          "base_uri": "https://localhost:8080/",
          "height": 127
        },
        "outputId": "ebb4458d-c52a-44c1-a7fd-cedd5a5e184d"
      },
      "source": [
        "import pandas as pd\n",
        "import matplotlib.pyplot as plt\n",
        "\n",
        "order_df = pd.read_csv(\"order.csv\")\n",
        "\n",
        "#Median price yang dibayar customer dari masing-masing metode pembayaran\n",
        "median_price = order_df[\"price\"].groupby(order_df[\"payment_type\"]).median()\n",
        "print(\"Median price yang dibayar oleh customer dari masing-masing metode pembayaran\", median_price)"
      ],
      "execution_count": 30,
      "outputs": [
        {
          "output_type": "stream",
          "text": [
            "Median price yang dibayar oleh customer dari masing-masing metode pembayaran payment_type\n",
            "credit card        2587500\n",
            "debit card         2621500\n",
            "e-wallet           2589000\n",
            "virtual account    2643000\n",
            "Name: price, dtype: int64\n"
          ],
          "name": "stdout"
        }
      ]
    },
    {
      "cell_type": "code",
      "metadata": {
        "id": "Ru8jx4AI_HOO",
        "colab_type": "code",
        "colab": {
          "base_uri": "https://localhost:8080/",
          "height": 1000
        },
        "outputId": "6f8328a8-dac9-401d-bdb8-9bac25dc9409"
      },
      "source": [
        "#Mengubah freight_value menjadi shipping_cost dan cari shipping_cost termahasl dari data penjualan tersebut menggunakan sort\n",
        "\n",
        "order_df.rename(columns={\"freight_value\" : \"shipping_cost\"}, inplace=True)\n",
        "sort_value = order_df.sort_values(by=\"shipping_cost\", ascending=0)\n",
        "print(sort_value)"
      ],
      "execution_count": 31,
      "outputs": [
        {
          "output_type": "stream",
          "text": [
            "                               order_id  quantity  \\\n",
            "23829  7d63cb1d349e7bd0ee1edcc61ea71077         1   \n",
            "12011  00c9f7d4b0e87781465e562dc109f6aa         1   \n",
            "10984  69013d19f8db4cd7dc9f3b5c2564a96f         1   \n",
            "29722  f32c4d2b078bc5a354f4c1184522b5ff         1   \n",
            "15259  c8eab0ccabe8cdfc2afce66c1c554ae2         1   \n",
            "...                                 ...       ...   \n",
            "2891   1d0e8770169496e47622b6cbc0d10bda         1   \n",
            "36815  4bff82a994068f564e54b52b08ef4512         2   \n",
            "8175   e6b1fa22555c3064f984ebeb8a88de77         1   \n",
            "4034   8ac2728285fd4228f35d907768b5288a         4   \n",
            "32994  0286e258217733541e80588e29c208c1         1   \n",
            "\n",
            "                             product_id    price  \\\n",
            "23829  75d6b6963340c6063f7f4cfcccfe6a30  1472000   \n",
            "12011  1a0d662b65b5ef08796501b064c853af  4543000   \n",
            "10984  10d196ec072e2d8382c7ec9c942d7ea8  4137000   \n",
            "29722  0f789be671fe3bd93cabfbb4a710f282  4802000   \n",
            "15259  800f75019492a0d9ffb2483ae65b59f1  4078000   \n",
            "...                                 ...      ...   \n",
            "2891   3fc0f58c51fcd02161542e0320c4dbe7  4135000   \n",
            "36815  24d8da2d499efba175b1092826b7e390  2879000   \n",
            "8175   6fd82d8f842424334fedf31190e54d24  2947000   \n",
            "4034   fa94f25a73969e3a25d52706e246dfcc   967000   \n",
            "32994  3c4223262d31fa35043380da246fb0fa  3337000   \n",
            "\n",
            "                              seller_id  shipping_cost  \\\n",
            "23829  cc419e0650a3c5ba77189a1882b7556a         200000   \n",
            "12011  2e0dba2da448400b1c11d7b4b22f32a4         200000   \n",
            "10984  d12c926d74ceff0a90a21184466ce161         200000   \n",
            "29722  259f7b5e6e482c230e5bfaa670b6bb8f         200000   \n",
            "15259  efcd8d2104f1a05d028af7bad20d974b         200000   \n",
            "...                                 ...            ...   \n",
            "2891   82e0a475a88cc9595229d8029273f045           9000   \n",
            "36815  d12c926d74ceff0a90a21184466ce161           9000   \n",
            "8175   6560211a19b47992c3666cc44a7e94c0           9000   \n",
            "4034   004c9cd9d87a3c30c522c48c4fc07416           9000   \n",
            "32994  cb3dd9ce66268c7a3ca7241ac70ab58c           9000   \n",
            "\n",
            "                            customer_id order_status purchase_date  \\\n",
            "23829  484711e3d14ac75fb874e949b3a28395    delivered    2017-08-14   \n",
            "12011  cea80f9af87104810bd7fa9698f69d29    delivered    2017-05-22   \n",
            "10984  9cf423929ed7f738fd0a0e88607a79fd    delivered    2017-05-15   \n",
            "29722  5a1523d32a6d1b323a05895f5164655d    delivered    2017-09-18   \n",
            "15259  2339ab3abbeebe72f2782a01c87a9bc0    delivered    2017-06-14   \n",
            "...                                 ...          ...           ...   \n",
            "2891   e3cfff24939005d30dd3a046848227d6    delivered    2017-02-22   \n",
            "36815  2e998a151ac7a977d4a7e806346e0092    delivered    2017-10-30   \n",
            "8175   02d6ca625564571402a933db8fe814f0    delivered    2017-04-21   \n",
            "4034   6b5e281c1563241783deb3a2636daa28    delivered    2017-03-08   \n",
            "32994  010583f85dd55d32a6db1068f58ca6f1    delivered    2017-10-09   \n",
            "\n",
            "          payment_type product_category_name  product_weight_gram  \n",
            "23829      credit card                gadget                400.0  \n",
            "12011         e-wallet                  toys                900.0  \n",
            "10984      credit card             utilities                250.0  \n",
            "29722      credit card                  toys                450.0  \n",
            "15259       debit card                sports                100.0  \n",
            "...                ...                   ...                  ...  \n",
            "2891        debit card               fashion                900.0  \n",
            "36815         e-wallet               fashion                150.0  \n",
            "8175   virtual account           electronics                250.0  \n",
            "4034   virtual account               fashion               1700.0  \n",
            "32994  virtual account             utilities                700.0  \n",
            "\n",
            "[49999 rows x 12 columns]\n"
          ],
          "name": "stdout"
        }
      ]
    },
    {
      "cell_type": "code",
      "metadata": {
        "id": "cp8GYaxGA5WS",
        "colab_type": "code",
        "colab": {
          "base_uri": "https://localhost:8080/",
          "height": 384
        },
        "outputId": "ca27c428-185e-47f3-c247-19d845f7e96e"
      },
      "source": [
        "#Mencari rata-rata weight suatu produk pada product_category_name dan standar deviasi mana yang terkecil dari weight tersebut\n",
        "\n",
        "mean_value = order_df[\"product_weight_gram\"].groupby(order_df[\"product_category_name\"]).mean()\n",
        "print(mean_value)\n",
        "std_value = order_df[\"product_weight_gram\"].groupby(order_df[\"product_category_name\"]).std()\n",
        "print(std_value)"
      ],
      "execution_count": 33,
      "outputs": [
        {
          "output_type": "stream",
          "text": [
            "product_category_name\n",
            "automotive     2129.559039\n",
            "beauty         2120.088396\n",
            "electronics    2144.751191\n",
            "fashion        2246.516901\n",
            "gadget         2229.632942\n",
            "sports         2251.879909\n",
            "toys           2203.863643\n",
            "utilities      2291.029868\n",
            "Name: product_weight_gram, dtype: float64\n",
            "product_category_name\n",
            "automotive     3799.884166\n",
            "beauty         3837.474929\n",
            "electronics    3839.271768\n",
            "fashion        3858.885213\n",
            "gadget         3955.792741\n",
            "sports         4032.850044\n",
            "toys           3956.814749\n",
            "utilities      4150.509909\n",
            "Name: product_weight_gram, dtype: float64\n"
          ],
          "name": "stdout"
        }
      ]
    },
    {
      "cell_type": "code",
      "metadata": {
        "id": "viIhpjr8BvIV",
        "colab_type": "code",
        "colab": {
          "base_uri": "https://localhost:8080/",
          "height": 320
        },
        "outputId": "64a5a29a-fead-49ef-9ff3-a6281c8bf9d5"
      },
      "source": [
        "#Membuat histogram quantity penjualan dari dataset untuk melihat persebaran quantity penjualan tersebut untuk melihat persebaran quantity penjualan\n",
        "\n",
        "order_df[[\"quantity\"]].plot.hist(figsize=(4, 5), bins=5)\n",
        "plt.show()"
      ],
      "execution_count": 34,
      "outputs": [
        {
          "output_type": "display_data",
          "data": {
            "image/png": "[encoded data removed]",
            "text/plain": [
              "<Figure size 288x360 with 1 Axes>"
            ]
          },
          "metadata": {
            "tags": [],
            "needs_background": "light"
          }
        }
      ]
    }
  ]
}